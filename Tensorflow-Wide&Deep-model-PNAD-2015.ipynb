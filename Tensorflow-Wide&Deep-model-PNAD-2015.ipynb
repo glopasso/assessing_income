{
 "cells": [
  {
   "cell_type": "code",
   "execution_count": 1,
   "metadata": {
    "collapsed": true
   },
   "outputs": [],
   "source": [
    "# Google Cloud Configurations\n",
    "PROJECT = 'data-engineering-gcp'\n"
   ]
  },
  {
   "cell_type": "markdown",
   "metadata": {},
   "source": [
    "# Sampling PNAD 2015"
   ]
  },
  {
   "cell_type": "code",
   "execution_count": 2,
   "metadata": {
    "collapsed": true
   },
   "outputs": [],
   "source": [
    "# Collect from Big Query all the data for adults, i.e. people older than 18\n",
    "\n",
    "query_all_table=\"\"\"\n",
    "SELECT *\n",
    "    \n",
    "FROM \n",
    "    `data-engineering-gcp.PNAD_2015.join_individuals_households` \n",
    "\n",
    "WHERE \n",
    "    V8005_age>=18\n",
    "    \n",
    "ORDER BY\n",
    "    household_index,V0301_inhabitant_order_in_household\n",
    "    \n",
    "\n",
    "\"\"\""
   ]
  },
  {
   "cell_type": "code",
   "execution_count": 3,
   "metadata": {},
   "outputs": [
    {
     "name": "stdout",
     "output_type": "stream",
     "text": [
      "Requesting query... ok.\n",
      "Job ID: 420c8208-9834-464b-a03c-f80e62872d64\n",
      "Query running...\n",
      "Query done.\n",
      "Cache hit.\n",
      "\n",
      "Retrieving results...\n",
      "Got 261634 rows.\n",
      "\n",
      "Total time taken 377.06 s.\n",
      "Finished at 2018-05-01 11:30:02.\n"
     ]
    }
   ],
   "source": [
    "import pandas as pd\n",
    "data_all=pd.read_gbq(query_all_table, project_id=PROJECT, index_col=None, col_order=None, reauth=False, verbose=True, \n",
    "                   private_key=None, dialect='standard')\n",
    "                 "
   ]
  },
  {
   "cell_type": "code",
   "execution_count": 4,
   "metadata": {
    "collapsed": true
   },
   "outputs": [],
   "source": [
    "import pandas as pd\n",
    "\n",
    "df_all = data_all\n"
   ]
  },
  {
   "cell_type": "markdown",
   "metadata": {},
   "source": [
    "# Cleanup procedure\n",
    "Eliminate None, and '' from the dataframe"
   ]
  },
  {
   "cell_type": "code",
   "execution_count": 5,
   "metadata": {},
   "outputs": [
    {
     "name": "stdout",
     "output_type": "stream",
     "text": [
      "(261634, 73)\n"
     ]
    }
   ],
   "source": [
    "print(df_all.shape)"
   ]
  },
  {
   "cell_type": "code",
   "execution_count": 6,
   "metadata": {},
   "outputs": [
    {
     "data": {
      "text/plain": [
       "3289.5944296230614"
      ]
     },
     "execution_count": 6,
     "metadata": {},
     "output_type": "execute_result"
    }
   ],
   "source": [
    "df_all['monthly_family_income'].mean()"
   ]
  },
  {
   "cell_type": "code",
   "execution_count": 7,
   "metadata": {},
   "outputs": [
    {
     "data": {
      "text/plain": [
       "array(['E', 'D', 'C', 'B', 'A', 'not declared'], dtype=object)"
      ]
     },
     "execution_count": 7,
     "metadata": {},
     "output_type": "execute_result"
    }
   ],
   "source": [
    "df_all['Class'].unique()"
   ]
  },
  {
   "cell_type": "markdown",
   "metadata": {},
   "source": [
    "# Visualization of familes per social class\n",
    "Using total family income"
   ]
  },
  {
   "cell_type": "code",
   "execution_count": 18,
   "metadata": {
    "collapsed": true
   },
   "outputs": [],
   "source": [
    "import numpy as np\n",
    "import matplotlib.pyplot as plt\n",
    "from collections import Counter\n",
    "import matplotlib\n",
    "matplotlib.rcParams.update({'font.size': 14})\n",
    "\n",
    "# function to draw a bar chart showing the distribution of a variable in percentage of total\n",
    "def plot_bar_chart(variable,y_label=None,title=None,color='SkyBlue',width = 0.30, x_axis_width=5,rotation=0):\n",
    "    \n",
    "    counter = Counter(variable.tolist())\n",
    "    counter = sorted(counter.items())\n",
    "\n",
    "    values = [i[1] for i in counter]\n",
    "    values_percentage= [round((x / sum(values))*100,1) for x in list(map(float, values))]\n",
    "    x_labels = [i[0] for i in counter]\n",
    "    ind = np.arange(len(values))  # the x locations for the groups\n",
    "    \n",
    "    fig = plt.figure(figsize=(x_axis_width, 5))\n",
    "    ax = fig.add_subplot(111)\n",
    "  \n",
    "\n",
    "    #fig, ax = plt.subplots()\n",
    "    rects = ax.bar(ind - width/2, values_percentage, width, \n",
    "                color=color)\n",
    "\n",
    "\n",
    "    # Add some text for labels, title and custom x-axis tick labels, etc.\n",
    "    ax.set_ylabel(y_label)\n",
    "    ax.set_title(title)\n",
    "    ax.set_xticks(ind-width/2)\n",
    "    ax.set_xticklabels(x_labels)\n",
    "    plt.xticks(rotation=rotation)\n",
    "    plt.yticks(np.arange(0, max(values_percentage)+5,2),visible=False)\n",
    "    \n",
    "\n",
    "\n",
    "    xpos = 'center'\n",
    "    ha = {'center': 'center', 'right': 'left', 'left': 'right'}\n",
    "    offset = {'center': 0.5, 'right': 0.57, 'left': 0.43}  # x_txt = x + w*off\n",
    "    #percentages = [x/sum(values) for x in values]\n",
    "\n",
    "    for rect in rects:\n",
    "        height = rect.get_height()\n",
    "        ax.text(rect.get_x() + rect.get_width()*offset[xpos], 1.01*height,\n",
    "                '{}'.format(height), ha=ha[xpos], va='bottom')\n",
    "    plt.show()\n",
    "    \n",
    "    return"
   ]
  },
  {
   "cell_type": "code",
   "execution_count": 19,
   "metadata": {},
   "outputs": [
    {
     "data": {
      "image/png": "[encoded data removed]",
      "text/plain": [
       "<matplotlib.figure.Figure at 0x7f38a5dec0b8>"
      ]
     },
     "metadata": {},
     "output_type": "display_data"
    }
   ],
   "source": [
    "# Plotting a bar chart social class distribution, counting households only once\n",
    "# The \"drop_duplicates\" of household_index is used for that.\n",
    "plot_bar_chart(df_all.drop_duplicates('household_index')['Class'],\n",
    "               y_label='Percentage (%)',title='Class',color='SkyBlue',width = 0.30,x_axis_width=7)"
   ]
  },
  {
   "cell_type": "code",
   "execution_count": 20,
   "metadata": {
    "collapsed": true
   },
   "outputs": [],
   "source": [
    "import matplotlib.pyplot as plt\n",
    "import numpy as np\n",
    "#function for a boxplot chart to show the income distribution per social class\n",
    "def print_boxplot(df,x_axis_width=7, y_axis_height=7):\n",
    "    \n",
    "    fig = plt.figure(figsize=(x_axis_width, y_axis_height))\n",
    "    ax = fig.add_subplot(111)\n",
    "    data = [df.loc[df.Class == 'E','monthly_family_income'],\n",
    "            df.loc[df.Class == 'D','monthly_family_income'],\n",
    "            df.loc[df.Class == 'C','monthly_family_income'],\n",
    "            df.loc[df.Class == 'B','monthly_family_income'],\n",
    "            df.loc[df.Class == 'A','monthly_family_income']]\n",
    "    labels = ['E','D','C','B','A']\n",
    "    plt.yticks(np.arange(0, data[4].max(), 2500))\n",
    "    ax.boxplot(data,labels=labels,showfliers=False)\n",
    "    plt.show()\n",
    "    return"
   ]
  },
  {
   "cell_type": "code",
   "execution_count": 21,
   "metadata": {},
   "outputs": [
    {
     "name": "stderr",
     "output_type": "stream",
     "text": [
      "/home/lopasso/anaconda3/lib/python3.6/site-packages/numpy/core/fromnumeric.py:52: FutureWarning: reshape is deprecated and will raise in a subsequent release. Please use .values.reshape(...) instead\n",
      "  return getattr(obj, method)(*args, **kwds)\n"
     ]
    },
    {
     "data": {
      "image/png": "[encoded data removed]",
      "text/plain": [
       "<matplotlib.figure.Figure at 0x7f38a42f4630>"
      ]
     },
     "metadata": {},
     "output_type": "display_data"
    }
   ],
   "source": [
    "print_boxplot(df_all.drop_duplicates('household_index'))"
   ]
  },
  {
   "cell_type": "markdown",
   "metadata": {},
   "source": [
    "## Feature Engineering"
   ]
  },
  {
   "cell_type": "code",
   "execution_count": 22,
   "metadata": {
    "collapsed": true
   },
   "outputs": [],
   "source": [
    "def clean_data(df):\n",
    "  df.loc[:,'people_per_bathroom']=df.loc[:,'V4724_number_of_people_in_family']/df.loc[:,'V2016_number_of_bathrooms']\n",
    "  df.loc[:,'people_per_room']=df.loc[:,'V4724_number_of_people_in_family']/df.loc[:,'V0205_number_of_rooms']\n",
    "  df.loc[:,'people_per_bedroom']=df.loc[:,'V4724_number_of_people_in_family']/df.loc[:,'V0206_number_of_bedrooms']\n",
    "  \n",
    "  COLUMNS_TO_FLOAT = ['V4724_number_of_people_in_family','V8005_age','V2016_number_of_bathrooms','V0205_number_of_rooms',\n",
    "        'V0206_number_of_bedrooms','people_per_bathroom','people_per_room','people_per_bedroom']\n",
    "  df[COLUMNS_TO_FLOAT] = df[COLUMNS_TO_FLOAT].astype(np.float32)\n",
    "\n",
    "  booleanDictionary = {True: 'True', False: 'False'}\n",
    "  df.V0601_read_write =  df.V0601_read_write.replace(booleanDictionary)\n",
    "\n",
    "  type_of_areaDictionary = {'Urban – city or town, urbanized area' : 'urban',\n",
    "                            'Rural – rural zone, not conglomerate' : 'rural',\n",
    "                            'Rural – rural conglomerate, isolated, town' : 'rural',\n",
    "                            'urban – city or town, not urbanized area' : 'urban',\n",
    "                            'Rural – conglomerate of urban extension' : 'rural',\n",
    "                            'Rural – rural conglomerate, isolated, nucleos' : 'rural',\n",
    "                            'Urban – isolated urban area' : 'urban',\n",
    "                            'Rural – rural conglomerate, isolated, other conglomerates' : 'rural'}\n",
    "\n",
    "  df.V4728_type_of_area =  df.V4728_type_of_area.replace(type_of_areaDictionary)\n",
    "  \n",
    "  df['income_range']=''\n",
    "  df.loc[df['monthly_family_income'] <=6585, 'income_range']  = 'income<=6585'\n",
    "  df.loc[df['monthly_family_income'] >6585,'income_range'] = 'income>6585'\n",
    "  df.loc[df['Class'] =='not declared','income_range'] = 'not declared'\n",
    "  \n",
    "  \n",
    "  df_features = ['household_index', 'UF_string', 'V0302_gender', 'V4745_highest_level_of_education', 'V8005_age',\n",
    "                'V0404_race', 'V4011_marital_status', 'V0601_read_write',\n",
    "                'V4715_position_at_work_last_year', 'V4816_economic_activity_last_year',\n",
    "                'V4817_occupational_work_groups_last_year', 'V4723_family_type',\n",
    "                'V4724_number_of_people_in_family', 'V4728_type_of_area', \n",
    "                'V0201_household_specie_a', 'V0202_household_type_a',\n",
    "                'V0203_wall_material_a', 'V0204_roof_material_a',\n",
    "                'V0205_number_of_rooms', 'V0206_number_of_bedrooms',\n",
    "                'V0207_occupation_condition_a', 'V0210_terrain_is_owned_a',\n",
    "                'V0211_water_service_a', 'V0212_water_source_a', 'V0215_bathroom',\n",
    "                'V0216_shared_bathroom_a', 'V2016_number_of_bathrooms',\n",
    "                'V0217_sewage_type_a', 'V0218_trash_disposal_a', 'V0219_lightening_a',\n",
    "                'V0220_mobile_phone', 'V2020_fixed_phone',\n",
    "                'V0221_stove_2_or_more_burners', 'V0222_stove_1_burner',\n",
    "                'V0223_type_of_stove_fuel_a', 'V0224_water_filter', 'V0225_radio',\n",
    "                'V0226_color_TV_set', 'V0228_fridge_type_a', 'V0229_freezer',\n",
    "                'V0230_washing_machine', 'V0231_personal_computer',\n",
    "                'V0232_PC_acessing_Internet', 'V2032_car_motorcycle_a','people_per_bathroom', 'people_per_room',\n",
    "                'people_per_bedroom','income_range']\n",
    "\n",
    "  df=df[df_features]\n",
    "  df = df.dropna(how=\"any\", axis=0)\n",
    "  \n",
    "  return df\n"
   ]
  },
  {
   "cell_type": "code",
   "execution_count": 23,
   "metadata": {
    "collapsed": true
   },
   "outputs": [],
   "source": [
    "df = clean_data(df_all)\n"
   ]
  },
  {
   "cell_type": "code",
   "execution_count": 24,
   "metadata": {},
   "outputs": [
    {
     "data": {
      "image/png": "[encoded data removed]",
      "text/plain": [
       "<matplotlib.figure.Figure at 0x7f38a0028128>"
      ]
     },
     "metadata": {},
     "output_type": "display_data"
    }
   ],
   "source": [
    "plot_bar_chart(df.drop_duplicates('household_index')['income_range'],\n",
    "               y_label='Percentage (%)',title='Class',color='SkyBlue',width = 0.30,x_axis_width=7)"
   ]
  },
  {
   "cell_type": "code",
   "execution_count": 25,
   "metadata": {},
   "outputs": [
    {
     "data": {
      "text/plain": [
       "(255077, 48)"
      ]
     },
     "execution_count": 25,
     "metadata": {},
     "output_type": "execute_result"
    }
   ],
   "source": [
    "df.shape\n"
   ]
  },
  {
   "cell_type": "markdown",
   "metadata": {},
   "source": [
    "# Data split into train, validation and test datasets"
   ]
  },
  {
   "cell_type": "code",
   "execution_count": 65,
   "metadata": {},
   "outputs": [
    {
     "name": "stdout",
     "output_type": "stream",
     "text": [
      "(5383, 48) (249694, 48)\n"
     ]
    }
   ],
   "source": [
    "dataset_not_declared = df.loc[df['income_range']=='not declared']\n",
    "dataset = df.loc[df['income_range']!='not declared'] # dataset has no more 'not declared'\n",
    "\n",
    "print(dataset_not_declared.shape,dataset.shape)"
   ]
  },
  {
   "cell_type": "code",
   "execution_count": 66,
   "metadata": {},
   "outputs": [
    {
     "data": {
      "image/png": "[encoded data removed]",
      "text/plain": [
       "<matplotlib.figure.Figure at 0x7f389e2567f0>"
      ]
     },
     "metadata": {},
     "output_type": "display_data"
    }
   ],
   "source": [
    "plot_bar_chart(dataset['income_range'],\n",
    "               y_label='Percentage (%)',title='Class',color='SkyBlue',width = 0.30,x_axis_width=5)"
   ]
  },
  {
   "cell_type": "code",
   "execution_count": 67,
   "metadata": {
    "collapsed": true
   },
   "outputs": [],
   "source": [
    "# In order to avoid data leakage we are controlling individuals that will be included in each dataset(train, validation and test) \n",
    "# to be from \n",
    "# the same family, i.e., for each family, all the members will go either to train or test dataset. This will avoid that we will\n",
    "# test and individuals whose family data was used to train the model using the data from another member of the same family\n",
    "\n",
    "family_index_unique = dataset.drop_duplicates('household_index')['household_index']\n",
    "\n",
    "test_index = family_index_unique.sample(frac=0.1, random_state=15)\n",
    "\n",
    "X_features = ['UF_string',  'V4745_highest_level_of_education', 'V8005_age',\n",
    "       'V0404_race', 'V4011_marital_status', 'V0601_read_write',\n",
    "       'V4715_position_at_work_last_year', 'V4816_economic_activity_last_year',\n",
    "       'V4817_occupational_work_groups_last_year', 'V4723_family_type',\n",
    "       'V4724_number_of_people_in_family', 'V4728_type_of_area', \n",
    "       'V0201_household_specie_a', 'V0202_household_type_a',\n",
    "       'V0205_number_of_rooms', 'V0206_number_of_bedrooms',\n",
    "       'V0207_occupation_condition_a', 'V0210_terrain_is_owned_a',\n",
    "       'V0215_bathroom', 'V0216_shared_bathroom_a', 'V2016_number_of_bathrooms',\n",
    "       'V2020_fixed_phone','V0230_washing_machine', 'V0231_personal_computer',\n",
    "       'V0232_PC_acessing_Internet', 'V2032_car_motorcycle_a','people_per_bathroom', 'people_per_room',\n",
    "       'people_per_bedroom']\n",
    "y_labels = ['income_range']\n",
    "\n",
    "X_test = dataset.loc[dataset['household_index'].isin(test_index), X_features]\n",
    "y_test = dataset.loc[dataset['household_index'].isin(test_index), y_labels]\n",
    "\n",
    "dataset_without_test = dataset.loc[~dataset['household_index'].isin(test_index)]"
   ]
  },
  {
   "cell_type": "code",
   "execution_count": 68,
   "metadata": {},
   "outputs": [
    {
     "name": "stdout",
     "output_type": "stream",
     "text": [
      "(24903, 29) (24903, 1) (224791, 48)\n"
     ]
    }
   ],
   "source": [
    "print(X_test.shape,y_test.shape,dataset_without_test.shape)"
   ]
  },
  {
   "cell_type": "code",
   "execution_count": 69,
   "metadata": {
    "collapsed": true
   },
   "outputs": [],
   "source": [
    "family_index_unique2 = dataset_without_test.drop_duplicates('household_index')['household_index']\n",
    "\n",
    "validation_index = family_index_unique2.sample(frac=0.1, random_state=15)\n",
    "\n",
    "dataset_validation = dataset_without_test.loc[dataset_without_test['household_index'].isin(validation_index)]\n",
    "dataset_train = dataset_without_test.loc[~dataset_without_test['household_index'].isin(validation_index)]"
   ]
  },
  {
   "cell_type": "code",
   "execution_count": 70,
   "metadata": {},
   "outputs": [
    {
     "name": "stdout",
     "output_type": "stream",
     "text": [
      "(22527, 48) (202264, 48)\n"
     ]
    }
   ],
   "source": [
    "print(dataset_validation.shape,dataset_train.shape)"
   ]
  },
  {
   "cell_type": "code",
   "execution_count": 71,
   "metadata": {},
   "outputs": [
    {
     "data": {
      "image/png": "[encoded data removed]",
      "text/plain": [
       "<matplotlib.figure.Figure at 0x7f389d6acf60>"
      ]
     },
     "metadata": {},
     "output_type": "display_data"
    }
   ],
   "source": [
    "plot_bar_chart(dataset_train.drop_duplicates('household_index')['income_range'],\n",
    "               y_label='Percentage (%)',title='Class',color='SkyBlue',width = 0.30,x_axis_width=5)"
   ]
  },
  {
   "cell_type": "code",
   "execution_count": 72,
   "metadata": {},
   "outputs": [
    {
     "data": {
      "image/png": "[encoded data removed]",
      "text/plain": [
       "<matplotlib.figure.Figure at 0x7f389b3d2ef0>"
      ]
     },
     "metadata": {},
     "output_type": "display_data"
    }
   ],
   "source": [
    "plot_bar_chart(dataset_validation.drop_duplicates('household_index')['income_range'],\n",
    "               y_label='Percentage (%)',title='Class',color='SkyBlue',width = 0.30,x_axis_width=5)"
   ]
  },
  {
   "cell_type": "code",
   "execution_count": 73,
   "metadata": {
    "collapsed": true
   },
   "outputs": [],
   "source": [
    "#undersampling for the validation dataset\n",
    "undersample = dataset_validation.loc[dataset_validation['income_range']=='income<=6585'].sample(frac=0.12, \n",
    "                                                                                                random_state=15)\n",
    "dataset_validation = dataset_validation.loc[dataset_validation['income_range']=='income>6585'] \n",
    "dataset_validation = dataset_validation.append(undersample,ignore_index=True)"
   ]
  },
  {
   "cell_type": "code",
   "execution_count": 74,
   "metadata": {},
   "outputs": [
    {
     "data": {
      "text/plain": [
       "(4820, 48)"
      ]
     },
     "execution_count": 74,
     "metadata": {},
     "output_type": "execute_result"
    }
   ],
   "source": [
    "dataset_validation.shape\n"
   ]
  },
  {
   "cell_type": "code",
   "execution_count": 75,
   "metadata": {},
   "outputs": [
    {
     "data": {
      "image/png": "[encoded data removed]",
      "text/plain": [
       "<matplotlib.figure.Figure at 0x7f389b897eb8>"
      ]
     },
     "metadata": {},
     "output_type": "display_data"
    }
   ],
   "source": [
    "plot_bar_chart(dataset_validation['income_range'],\n",
    "               y_label='Percentage (%)',title='Class',color='SkyBlue',width = 0.30,x_axis_width=5)"
   ]
  },
  {
   "cell_type": "code",
   "execution_count": 76,
   "metadata": {
    "collapsed": true
   },
   "outputs": [],
   "source": [
    "#undersampling for the train dataset\n",
    "undersample2 = dataset_train.loc[dataset_train['income_range']=='income<=6585'].sample(frac=0.12\n",
    "                                                                                       , random_state=15)\n",
    "dataset_train = dataset_train.loc[dataset_train['income_range']=='income>6585'] \n",
    "dataset_train = dataset_train.append(undersample2,ignore_index=True)\n",
    "# shuffle the train dataset\n",
    "dataset_train = dataset_train.sample(frac=1, axis=1, random_state=15).reset_index(drop=True)"
   ]
  },
  {
   "cell_type": "code",
   "execution_count": 77,
   "metadata": {},
   "outputs": [
    {
     "data": {
      "image/png": "[encoded data removed]",
      "text/plain": [
       "<matplotlib.figure.Figure at 0x7f38a10c0978>"
      ]
     },
     "metadata": {},
     "output_type": "display_data"
    }
   ],
   "source": [
    "plot_bar_chart(dataset_train['income_range'],\n",
    "               y_label='Percentage (%)',title='Class',color='SkyBlue',width = 0.30,x_axis_width=5)"
   ]
  },
  {
   "cell_type": "code",
   "execution_count": 78,
   "metadata": {
    "collapsed": true
   },
   "outputs": [],
   "source": [
    "\n",
    "\n",
    "X_validation = dataset_validation[X_features]\n",
    "y_validation = dataset_validation[y_labels]\n",
    "\n",
    "X_train = dataset_train[X_features]\n",
    "y_train = dataset_train[y_labels]\n"
   ]
  },
  {
   "cell_type": "code",
   "execution_count": 79,
   "metadata": {},
   "outputs": [
    {
     "name": "stdout",
     "output_type": "stream",
     "text": [
      "(42855, 29) (42855, 1) (4820, 29) (4820, 1)\n"
     ]
    }
   ],
   "source": [
    "print(X_train.shape,y_train.shape,X_validation.shape, y_validation.shape)"
   ]
  },
  {
   "cell_type": "markdown",
   "metadata": {},
   "source": [
    "# Tensorflow Deep-and-wide classification model"
   ]
  },
  {
   "cell_type": "code",
   "execution_count": 41,
   "metadata": {},
   "outputs": [
    {
     "name": "stderr",
     "output_type": "stream",
     "text": [
      "/home/lopasso/anaconda3/lib/python3.6/site-packages/h5py/__init__.py:34: FutureWarning: Conversion of the second argument of issubdtype from `float` to `np.floating` is deprecated. In future, it will be treated as `np.float64 == np.dtype(float).type`.\n",
      "  from ._conv import register_converters as _register_converters\n"
     ]
    }
   ],
   "source": [
    "import tensorflow as tf"
   ]
  },
  {
   "cell_type": "code",
   "execution_count": 42,
   "metadata": {},
   "outputs": [
    {
     "data": {
      "text/plain": [
       "Index(['household_index', 'UF_string', 'V0302_gender',\n",
       "       'V4745_highest_level_of_education', 'V8005_age', 'V0404_race',\n",
       "       'V4011_marital_status', 'V0601_read_write',\n",
       "       'V4715_position_at_work_last_year', 'V4816_economic_activity_last_year',\n",
       "       'V4817_occupational_work_groups_last_year', 'V4723_family_type',\n",
       "       'V4724_number_of_people_in_family', 'V4728_type_of_area',\n",
       "       'V0201_household_specie_a', 'V0202_household_type_a',\n",
       "       'V0203_wall_material_a', 'V0204_roof_material_a',\n",
       "       'V0205_number_of_rooms', 'V0206_number_of_bedrooms',\n",
       "       'V0207_occupation_condition_a', 'V0210_terrain_is_owned_a',\n",
       "       'V0211_water_service_a', 'V0212_water_source_a', 'V0215_bathroom',\n",
       "       'V0216_shared_bathroom_a', 'V2016_number_of_bathrooms',\n",
       "       'V0217_sewage_type_a', 'V0218_trash_disposal_a', 'V0219_lightening_a',\n",
       "       'V0220_mobile_phone', 'V2020_fixed_phone',\n",
       "       'V0221_stove_2_or_more_burners', 'V0222_stove_1_burner',\n",
       "       'V0223_type_of_stove_fuel_a', 'V0224_water_filter', 'V0225_radio',\n",
       "       'V0226_color_TV_set', 'V0228_fridge_type_a', 'V0229_freezer',\n",
       "       'V0230_washing_machine', 'V0231_personal_computer',\n",
       "       'V0232_PC_acessing_Internet', 'V2032_car_motorcycle_a',\n",
       "       'people_per_bathroom', 'people_per_room', 'people_per_bedroom',\n",
       "       'income_range'],\n",
       "      dtype='object')"
      ]
     },
     "execution_count": 42,
     "metadata": {},
     "output_type": "execute_result"
    }
   ],
   "source": [
    "dataset.columns"
   ]
  },
  {
   "cell_type": "code",
   "execution_count": 43,
   "metadata": {},
   "outputs": [
    {
     "data": {
      "text/plain": [
       "array(['rented', 'owned already paid', 'owned still paying',\n",
       "       'ceded other way', 'ceded by employer', 'other condition'],\n",
       "      dtype=object)"
      ]
     },
     "execution_count": 43,
     "metadata": {},
     "output_type": "execute_result"
    }
   ],
   "source": [
    "dataset.V0207_occupation_condition_a.unique()"
   ]
  },
  {
   "cell_type": "code",
   "execution_count": 44,
   "metadata": {
    "collapsed": true
   },
   "outputs": [],
   "source": [
    "# categorical input features\n",
    "\n",
    "\n",
    "# Individual info\n",
    "\n",
    "#gender = tf.feature_column.categorical_column_with_vocabulary_list(\n",
    "#        'V0302_gender',\n",
    "#        ['female', 'male'])\n",
    "\n",
    "marital_status = tf.feature_column.categorical_column_with_vocabulary_list(\n",
    "        'V4011_marital_status',\n",
    "        ['single', 'legally_divorced', 'not applicable', 'married',\n",
    "       'separated', 'widowed'])\n",
    "\n",
    "# Family info\n",
    "\n",
    "type_of_family = tf.feature_column.categorical_column_with_vocabulary_list(\n",
    "        'V4723_family_type',\n",
    "        ['other types of families', 'mother with all kids younger than 14',\n",
    "       'couple with kids younger and older than 14',\n",
    "       'couple with kids with 14 or older', 'couple without kids',\n",
    "       'mother with kids with 14 or older',\n",
    "       'couple with all kids younger than 14',\n",
    "       'mother with kids younger and older than 14'])\n",
    "\n",
    "\n",
    "# Education of the individual\n",
    "\n",
    "highest_level_of_education = tf.feature_column.categorical_column_with_vocabulary_list(\n",
    "        'V4745_highest_level_of_education',\n",
    "        ['completed high school', 'incompleted elementary',\n",
    "       'incompleted university degree', 'no education',\n",
    "       'completed elementary', 'completed university degree',\n",
    "       'indetermined', 'incompleted high school'])\n",
    "\n",
    "read_write = tf.feature_column.categorical_column_with_vocabulary_list(\n",
    "        'V0601_read_write',\n",
    "        [ 'True', 'False'])\n",
    "\n",
    "# Work of the individual\n",
    "\n",
    "position_at_work = tf.feature_column.categorical_column_with_vocabulary_list(\n",
    "        'V4715_position_at_work_last_year',\n",
    "        ['Public employee', 'not applicable', 'regular employee',\n",
    "       'Informal employee', 'domestic informal employee', 'self-employed',\n",
    "       'working on construction for own use', 'employeer',\n",
    "       'domestic formal employee', 'militar',\n",
    "       'working on own consumpltion', 'not paid'])\n",
    "\n",
    "occupational_work_groups = tf.feature_column.categorical_column_with_vocabulary_list(\n",
    "        'V4817_occupational_work_groups_last_year',\n",
    "        ['administrative services workers', 'technicians', 'not applicable',\n",
    "       'sciences and arts professionals',\n",
    "       'goods and services production workers', 'service workers',\n",
    "       'agriculture workers', 'salespeople and commerce workers',\n",
    "       'managers', 'military', 'badly defined occupations'])\n",
    "\n",
    "economic_activity = tf.feature_column.categorical_column_with_vocabulary_list(\n",
    "        'V4816_economic_activity_last_year',\n",
    "        ['public administration', 'education, health and social services',\n",
    "       'not applicable', 'transformation industry',\n",
    "       'transport, storage and communication', 'commerce and repair',\n",
    "       'lodging and catering', 'domestic services',\n",
    "       'other collective services, social and personal', 'agriculture',\n",
    "       'construction', 'other manufacturing activities',\n",
    "       'other activities', 'badly defined activities'])\n",
    "\n",
    "#Location of the household and type\n",
    "\n",
    "state = tf.feature_column.categorical_column_with_vocabulary_list(\n",
    "        'UF_string',\n",
    "       ['Rondônia', 'Acre', 'Amazonas', 'Roraima', 'Pará', 'Amapá',\n",
    "       'Tocantins', 'Maranhão', 'Piauí', 'Ceará', 'Rio Grande do Norte',\n",
    "       'Paraíba', 'Pernambuco', 'Alagoas', 'Sergipe', 'Bahia',\n",
    "       'Minas Gerais', 'Espírito Santo', 'Rio de Janeiro', 'São Paulo',\n",
    "       'Paraná', 'Santa Catarina', 'Rio Grande do Sul',\n",
    "       'Mato Grosso do Sul', 'Mato Grosso', 'Goiás', 'Distrito Federal'])\n",
    "\n",
    "type_of_census_area = tf.feature_column.categorical_column_with_vocabulary_list(\n",
    "        'V4728_type_of_area',\n",
    "        ['urban','rural'])\n",
    "\n",
    "\n",
    "household_type = tf.feature_column.categorical_column_with_vocabulary_list(\n",
    "        'V0202_household_type_a',\n",
    "        ['House', 'Apartment', 'Room'])\n",
    "\n",
    "household_occupation_condition = tf.feature_column.categorical_column_with_vocabulary_list(\n",
    "        'V0207_occupation_condition_a',\n",
    "        ['rented', 'owned already paid', 'owned still paying',\n",
    "       'ceded by employer', 'ceded other way', 'other condition'])\n",
    "\n",
    "#census_area = tf.feature_column.categorical_column_with_hash_bucket('UPA_census_area',hash_bucket_size=100, dtype=tf.string)\n",
    "\n",
    "# household goods\n",
    "\n",
    "car_motorcycle = tf.feature_column.categorical_column_with_vocabulary_list(\n",
    "        'V2032_car_motorcycle_a',\n",
    "        ['Car', 'Motorcycle', 'Car and motorcycle', 'No'])\n",
    "\n",
    "PC_acessing_Internet = tf.feature_column.categorical_column_with_vocabulary_list(\n",
    "        'V0232_PC_acessing_Internet',\n",
    "        ['true', 'not applicable', 'false'])\n",
    "\n",
    "personal_computer = tf.feature_column.categorical_column_with_vocabulary_list(\n",
    "        'V0231_personal_computer',\n",
    "        ['true', 'not applicable', 'false'])\n",
    "\n",
    "washing_machine = tf.feature_column.categorical_column_with_vocabulary_list(\n",
    "        'V0230_washing_machine',\n",
    "        ['true', 'not applicable', 'false'])\n",
    "\n",
    "fixed_phone = tf.feature_column.categorical_column_with_vocabulary_list(\n",
    "        'V2020_fixed_phone',\n",
    "        ['true', 'not applicable', 'false'])"
   ]
  },
  {
   "cell_type": "code",
   "execution_count": 45,
   "metadata": {
    "collapsed": true
   },
   "outputs": [],
   "source": [
    "# numerical input features\n",
    "\n",
    "# Individual\n",
    "age = tf.feature_column.numeric_column('V8005_age')\n",
    "age_buckets = tf.feature_column.bucketized_column(age,boundaries=[18, 25, 30, 35, 40, 45, 50, 55, 60, 65])\n",
    "\n",
    "# Family\n",
    "number_of_people_in_the_family = tf.feature_column.numeric_column('V4724_number_of_people_in_family')\n",
    "number_of_people_buckets = tf.feature_column.bucketized_column(number_of_people_in_the_family,\n",
    "                                                  boundaries=[1,2,3,4,5,7,10])\n",
    "\n",
    "# Household\n",
    "number_of_bathrooms = tf.feature_column.numeric_column('V2016_number_of_bathrooms')\n",
    "number_of_rooms = tf.feature_column.numeric_column('V0205_number_of_rooms')\n",
    "number_of_bedrooms = tf.feature_column.numeric_column('V0206_number_of_bedrooms')\n",
    "people_per_bathroom = tf.feature_column.numeric_column('people_per_bathroom')\n",
    "people_per_room = tf.feature_column.numeric_column('people_per_room')\n",
    "people_per_bedroom = tf.feature_column.numeric_column('people_per_bedroom')\n",
    "\n"
   ]
  },
  {
   "cell_type": "code",
   "execution_count": 46,
   "metadata": {
    "collapsed": true
   },
   "outputs": [],
   "source": [
    "#print(number_of_people_in_the_family)"
   ]
  },
  {
   "cell_type": "code",
   "execution_count": 47,
   "metadata": {
    "collapsed": true
   },
   "outputs": [],
   "source": [
    "wide_columns = [\n",
    "  \n",
    "      tf.feature_column.crossed_column(\n",
    "          [ type_of_census_area,state,household_type,household_occupation_condition], hash_bucket_size=1000),\n",
    "      tf.feature_column.crossed_column(\n",
    "          [household_type, number_of_people_buckets], hash_bucket_size=200),\n",
    "      tf.feature_column.crossed_column(\n",
    "          [age_buckets, highest_level_of_education], hash_bucket_size=int(1e3)),\n",
    "      tf.feature_column.crossed_column(\n",
    "          [age_buckets, read_write], hash_bucket_size=int(1e3)),\n",
    "      tf.feature_column.crossed_column(\n",
    "          [position_at_work, economic_activity, occupational_work_groups], hash_bucket_size=int(1e3)),\n",
    "        tf.feature_column.crossed_column(\n",
    "          [car_motorcycle,PC_acessing_Internet, personal_computer, washing_machine, fixed_phone], hash_bucket_size=int(200)),\n",
    "      tf.feature_column.crossed_column(\n",
    "          [age_buckets, highest_level_of_education, type_of_census_area], hash_bucket_size=int(500)),\n",
    "      car_motorcycle,\n",
    "      PC_acessing_Internet,\n",
    "      personal_computer,\n",
    "      washing_machine,\n",
    "      fixed_phone,\n",
    "      highest_level_of_education,\n",
    "      read_write,\n",
    "      position_at_work,\n",
    "      economic_activity,\n",
    "      #type_of_family,\n",
    "      #census_area\n",
    "]"
   ]
  },
  {
   "cell_type": "code",
   "execution_count": 48,
   "metadata": {
    "collapsed": true
   },
   "outputs": [],
   "source": [
    "deep_columns = [  \n",
    "      tf.feature_column.indicator_column(car_motorcycle),\n",
    "      tf.feature_column.indicator_column(PC_acessing_Internet),\n",
    "      tf.feature_column.indicator_column(personal_computer),\n",
    "      tf.feature_column.indicator_column(washing_machine),\n",
    "      tf.feature_column.indicator_column(fixed_phone),\n",
    "      tf.feature_column.indicator_column(highest_level_of_education),\n",
    "      tf.feature_column.indicator_column(read_write),\n",
    "      tf.feature_column.indicator_column(position_at_work),\n",
    "      tf.feature_column.indicator_column(economic_activity),\n",
    "      #tf.feature_column.indicator_column(type_of_family),\n",
    "      #tf.feature_column.embedding_column(census_area, dimension=8),\n",
    "      number_of_people_in_the_family,\n",
    "      age,\n",
    "      number_of_bathrooms,\n",
    "      number_of_rooms,\n",
    "      number_of_bedrooms,\n",
    "      people_per_bathroom,\n",
    "      people_per_room,\n",
    "      people_per_bedroom \n",
    "]\n"
   ]
  },
  {
   "cell_type": "code",
   "execution_count": 80,
   "metadata": {},
   "outputs": [
    {
     "name": "stdout",
     "output_type": "stream",
     "text": [
      "PNAD_1525188046\n"
     ]
    }
   ],
   "source": [
    "import time\n",
    "MODEL_DIR = \"PNAD_%s\" % (int(time.time()))\n",
    "print(MODEL_DIR)\n",
    "config=tf.contrib.learn.RunConfig(\n",
    "        save_checkpoints_steps=500,\n",
    "        save_checkpoints_secs=None,\n",
    "        save_summary_steps=500,\n",
    "    )\n",
    "\n"
   ]
  },
  {
   "cell_type": "code",
   "execution_count": 81,
   "metadata": {},
   "outputs": [
    {
     "name": "stdout",
     "output_type": "stream",
     "text": [
      "INFO:tensorflow:Using config: {'_task_type': None, '_task_id': 0, '_cluster_spec': <tensorflow.python.training.server_lib.ClusterSpec object at 0x7f3897e1a208>, '_master': '', '_num_ps_replicas': 0, '_num_worker_replicas': 0, '_environment': 'local', '_is_chief': True, '_evaluation_master': '', '_tf_config': gpu_options {\n",
      "  per_process_gpu_memory_fraction: 1.0\n",
      "}\n",
      ", '_tf_random_seed': None, '_save_summary_steps': 500, '_save_checkpoints_secs': None, '_log_step_count_steps': 100, '_session_config': None, '_save_checkpoints_steps': 500, '_keep_checkpoint_max': 5, '_keep_checkpoint_every_n_hours': 10000, '_model_dir': 'PNAD_1525188046'}\n"
     ]
    }
   ],
   "source": [
    "estimator = tf.estimator.DNNLinearCombinedClassifier(\n",
    "    linear_feature_columns=wide_columns,\n",
    "      dnn_feature_columns=deep_columns,\n",
    "      dnn_hidden_units=[200,50],n_classes=2,\n",
    "    label_vocabulary=[\"income<=6585\", \"income>6585\"],\n",
    "    config=config,model_dir=MODEL_DIR)"
   ]
  },
  {
   "cell_type": "markdown",
   "metadata": {},
   "source": [
    "### Input function"
   ]
  },
  {
   "cell_type": "code",
   "execution_count": 101,
   "metadata": {
    "collapsed": true
   },
   "outputs": [],
   "source": [
    "input_func = tf.estimator.inputs.pandas_input_fn(x=X_train,y=y_train,batch_size=500,num_epochs=10000,shuffle=True)"
   ]
  },
  {
   "cell_type": "markdown",
   "metadata": {},
   "source": [
    "## Train model"
   ]
  },
  {
   "cell_type": "code",
   "execution_count": null,
   "metadata": {},
   "outputs": [],
   "source": [
    "init = tf.global_variables_initializer()\n",
    "estimator.train(input_fn=input_func,steps=30000)"
   ]
  },
  {
   "cell_type": "markdown",
   "metadata": {},
   "source": [
    "## Evaluate Model"
   ]
  },
  {
   "cell_type": "code",
   "execution_count": 103,
   "metadata": {
    "collapsed": true
   },
   "outputs": [],
   "source": [
    "eval_input_func = tf.estimator.inputs.pandas_input_fn(x=X_validation,y=y_validation,batch_size=100,\n",
    "                                                      num_epochs=1,shuffle=False)"
   ]
  },
  {
   "cell_type": "code",
   "execution_count": 104,
   "metadata": {},
   "outputs": [
    {
     "name": "stdout",
     "output_type": "stream",
     "text": [
      "WARNING:tensorflow:Casting <dtype: 'float32'> labels to bool.\n",
      "WARNING:tensorflow:Casting <dtype: 'float32'> labels to bool.\n",
      "INFO:tensorflow:Starting evaluation at 2018-05-01-16:43:19\n",
      "INFO:tensorflow:Restoring parameters from PNAD_1525188046/model.ckpt-60002\n",
      "INFO:tensorflow:Finished evaluation at 2018-05-01-16:43:22\n",
      "INFO:tensorflow:Saving dict for global step 60002: accuracy = 0.84709543, accuracy_baseline = 0.50103736, auc = 0.9239808, auc_precision_recall = 0.9171338, average_loss = 0.35073853, global_step = 60002, label/mean = 0.49896264, loss = 34.501217, prediction/mean = 0.48246762\n"
     ]
    }
   ],
   "source": [
    "results = estimator.evaluate(eval_input_func)"
   ]
  },
  {
   "cell_type": "code",
   "execution_count": 105,
   "metadata": {
    "collapsed": true
   },
   "outputs": [],
   "source": [
    "def prediction (X_prediction): \n",
    "  pred_fn = tf.estimator.inputs.pandas_input_fn(x=X_prediction,batch_size=len(X_prediction),shuffle=False)\n",
    "  predictions = list(estimator.predict(input_fn=pred_fn))\n",
    "  final_preds = []\n",
    "  for pred in predictions:\n",
    "      final_preds.append(pred['classes'][0].decode('utf8'))\n",
    "  \n",
    "  return final_preds\n"
   ]
  },
  {
   "cell_type": "code",
   "execution_count": 106,
   "metadata": {},
   "outputs": [
    {
     "name": "stdout",
     "output_type": "stream",
     "text": [
      "INFO:tensorflow:Restoring parameters from PNAD_1525188046/model.ckpt-60002\n"
     ]
    }
   ],
   "source": [
    "final_preds = prediction(X_validation)\n"
   ]
  },
  {
   "cell_type": "code",
   "execution_count": 107,
   "metadata": {
    "collapsed": true
   },
   "outputs": [],
   "source": [
    "def plot_confusion_matrix(final_preds,y):\n",
    "  from sklearn.metrics import confusion_matrix\n",
    "  import seaborn as sns\n",
    "  from sklearn.metrics import accuracy_score, precision_score, recall_score, f1_score\n",
    "\n",
    "    \n",
    "  y_size = len(y)\n",
    "  confusion = confusion_matrix(y, final_preds)\n",
    "  confusion = np.around(confusion/y_size, decimals=3)\n",
    "\n",
    "  df_cm = pd.DataFrame(confusion*100, \n",
    "                     index = ['income<=6585','income>6585'], columns = ['income<=6585','income>6585'])\n",
    "\n",
    "  plt.figure(figsize=(6,6))\n",
    "  sns.heatmap(df_cm, annot=True,cmap='Reds', fmt='g')\n",
    "\n",
    "  plt.title('Wide & Deep Tensorflow model \\n\\nAccuracy:{0:.1f}\\n'.format(accuracy_score(y, final_preds)*100))\n",
    "  plt.ylabel('True label')\n",
    "  plt.xlabel('Predicted label')\n",
    "  plt.show()\n",
    "  return"
   ]
  },
  {
   "cell_type": "code",
   "execution_count": 108,
   "metadata": {},
   "outputs": [
    {
     "data": {
      "image/png": "[encoded data removed]",
      "text/plain": [
       "<matplotlib.figure.Figure at 0x7f389d3f8278>"
      ]
     },
     "metadata": {},
     "output_type": "display_data"
    }
   ],
   "source": [
    "plot_confusion_matrix(final_preds, y_validation)"
   ]
  },
  {
   "cell_type": "markdown",
   "metadata": {},
   "source": [
    "# Test model"
   ]
  },
  {
   "cell_type": "code",
   "execution_count": 109,
   "metadata": {},
   "outputs": [
    {
     "name": "stdout",
     "output_type": "stream",
     "text": [
      "INFO:tensorflow:Restoring parameters from PNAD_1525188046/model.ckpt-60002\n"
     ]
    }
   ],
   "source": [
    "test_preds = prediction(X_test)\n"
   ]
  },
  {
   "cell_type": "code",
   "execution_count": 110,
   "metadata": {},
   "outputs": [
    {
     "data": {
      "image/png": "[encoded data removed]",
      "text/plain": [
       "<matplotlib.figure.Figure at 0x7f38863b9668>"
      ]
     },
     "metadata": {},
     "output_type": "display_data"
    }
   ],
   "source": [
    "plot_confusion_matrix(test_preds, y_test)"
   ]
  },
  {
   "cell_type": "markdown",
   "metadata": {},
   "source": [
    "## Tensorboard analysis"
   ]
  },
  {
   "cell_type": "code",
   "execution_count": 116,
   "metadata": {},
   "outputs": [],
   "source": [
    " #!tensorboard --logdir=<insert directory name>"
   ]
  },
  {
   "cell_type": "markdown",
   "metadata": {},
   "source": [
    "# Check the 'not declared' income cases"
   ]
  },
  {
   "cell_type": "code",
   "execution_count": 111,
   "metadata": {},
   "outputs": [
    {
     "name": "stdout",
     "output_type": "stream",
     "text": [
      "INFO:tensorflow:Restoring parameters from PNAD_1525188046/model.ckpt-60002\n"
     ]
    }
   ],
   "source": [
    "df_preds = prediction(dataset_not_declared)"
   ]
  },
  {
   "cell_type": "code",
   "execution_count": 112,
   "metadata": {
    "collapsed": true
   },
   "outputs": [],
   "source": [
    "df_preds = pd.DataFrame(df_preds, columns=['Predictions'])"
   ]
  },
  {
   "cell_type": "code",
   "execution_count": null,
   "metadata": {
    "collapsed": true
   },
   "outputs": [],
   "source": []
  },
  {
   "cell_type": "code",
   "execution_count": 113,
   "metadata": {},
   "outputs": [
    {
     "data": {
      "text/plain": [
       "(5383, 1)"
      ]
     },
     "execution_count": 113,
     "metadata": {},
     "output_type": "execute_result"
    }
   ],
   "source": [
    "df_preds.shape"
   ]
  },
  {
   "cell_type": "code",
   "execution_count": 114,
   "metadata": {},
   "outputs": [
    {
     "data": {
      "image/png": "[encoded data removed]",
      "text/plain": [
       "<matplotlib.figure.Figure at 0x7f388a48bda0>"
      ]
     },
     "metadata": {},
     "output_type": "display_data"
    }
   ],
   "source": [
    "plot_bar_chart(df_preds['Predictions'],\n",
    "               y_label='Percentage (%)',title='Class',color='SkyBlue',width = 0.30,x_axis_width=4)"
   ]
  },
  {
   "cell_type": "code",
   "execution_count": null,
   "metadata": {
    "collapsed": true
   },
   "outputs": [],
   "source": []
  }
 ],
 "metadata": {
  "kernelspec": {
   "display_name": "Python 3",
   "language": "python",
   "name": "python3"
  },
  "language_info": {
   "codemirror_mode": {
    "name": "ipython",
    "version": 3
   },
   "file_extension": ".py",
   "mimetype": "text/x-python",
   "name": "python",
   "nbconvert_exporter": "python",
   "pygments_lexer": "ipython3",
   "version": "3.6.3"
  }
 },
 "nbformat": 4,
 "nbformat_minor": 2
}
