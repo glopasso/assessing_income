{
 "cells": [
  {
   "cell_type": "code",
   "execution_count": 1,
   "metadata": {
    "collapsed": true
   },
   "outputs": [],
   "source": [
    "# Google Cloud Configurations\n",
    "PROJECT = 'data-engineering-gcp'\n"
   ]
  },
  {
   "cell_type": "markdown",
   "metadata": {},
   "source": [
    "# Sampling PNAD 2015"
   ]
  },
  {
   "cell_type": "code",
   "execution_count": 2,
   "metadata": {
    "collapsed": true
   },
   "outputs": [],
   "source": [
    "query_all_table=\"\"\"\n",
    "SELECT *\n",
    "    \n",
    "FROM \n",
    "    `data-engineering-gcp.PNAD_2015.join_individuals_households` \n",
    "\n",
    "WHERE \n",
    "    V8005_age>=18\n",
    "    \n",
    "ORDER BY\n",
    "    household_index,V0301_inhabitant_order_in_household\n",
    "    \n",
    "\n",
    "\"\"\""
   ]
  },
  {
   "cell_type": "code",
   "execution_count": 3,
   "metadata": {},
   "outputs": [
    {
     "name": "stdout",
     "output_type": "stream",
     "text": [
      "Requesting query... ok.\n",
      "Job ID: 8a300d4f-9299-41df-bcb7-447843a67d5d\n",
      "Query running...\n",
      "  Elapsed 7.02 s. Waiting...\n",
      "  Elapsed 8.33 s. Waiting...\n",
      "  Elapsed 9.64 s. Waiting...\n",
      "  Elapsed 10.95 s. Waiting...\n",
      "  Elapsed 12.36 s. Waiting...\n",
      "  Elapsed 13.67 s. Waiting...\n",
      "  Elapsed 15.0 s. Waiting...\n",
      "Query done.\n",
      "Processed: 256.1 MB Billed: 257.0 MB\n",
      "Standard price: $0.00 USD\n",
      "\n",
      "Retrieving results...\n",
      "Got 261634 rows.\n",
      "\n",
      "Total time taken 402.1 s.\n",
      "Finished at 2018-04-29 20:53:09.\n"
     ]
    }
   ],
   "source": [
    "import pandas as pd\n",
    "data_all=pd.read_gbq(query_all_table, project_id=PROJECT, index_col=None, col_order=None, reauth=False, verbose=True, \n",
    "                   private_key=None, dialect='standard')\n",
    "                 "
   ]
  },
  {
   "cell_type": "code",
   "execution_count": 4,
   "metadata": {},
   "outputs": [],
   "source": [
    "import pandas as pd\n",
    "#data.to_csv('PNAD-sample.csv')\n",
    "#data = pd.read_csv('PNAD-sample.csv')\n",
    "df_all = data_all\n"
   ]
  },
  {
   "cell_type": "code",
   "execution_count": 5,
   "metadata": {},
   "outputs": [],
   "source": [
    "#df_all.info()"
   ]
  },
  {
   "cell_type": "markdown",
   "metadata": {},
   "source": [
    "# Cleanup procedure\n",
    "Eliminate None, and '' from the dataframe"
   ]
  },
  {
   "cell_type": "code",
   "execution_count": 6,
   "metadata": {},
   "outputs": [
    {
     "name": "stdout",
     "output_type": "stream",
     "text": [
      "(261634, 73)\n"
     ]
    }
   ],
   "source": [
    "#df_all = df_all.dropna(axis=0)\n",
    "print(df_all.shape)"
   ]
  },
  {
   "cell_type": "code",
   "execution_count": 7,
   "metadata": {},
   "outputs": [],
   "source": [
    "#df_all.sample(3)"
   ]
  },
  {
   "cell_type": "code",
   "execution_count": 8,
   "metadata": {},
   "outputs": [
    {
     "data": {
      "text/plain": [
       "3289.5944296230614"
      ]
     },
     "execution_count": 8,
     "metadata": {},
     "output_type": "execute_result"
    }
   ],
   "source": [
    "df_all['monthly_family_income'].mean()"
   ]
  },
  {
   "cell_type": "code",
   "execution_count": 9,
   "metadata": {},
   "outputs": [
    {
     "data": {
      "text/plain": [
       "array(['E', 'D', 'C', 'B', 'A', 'not declared'], dtype=object)"
      ]
     },
     "execution_count": 9,
     "metadata": {},
     "output_type": "execute_result"
    }
   ],
   "source": [
    "df_all['Class'].unique()"
   ]
  },
  {
   "cell_type": "markdown",
   "metadata": {},
   "source": [
    "# Visualization of familes per social class\n",
    "Using total family income"
   ]
  },
  {
   "cell_type": "code",
   "execution_count": 10,
   "metadata": {
    "collapsed": true
   },
   "outputs": [],
   "source": [
    "import numpy as np\n",
    "import matplotlib.pyplot as plt\n",
    "from collections import Counter\n",
    "\n",
    "# function to draw a bar chart showing the distribution of a variable in percentage of total\n",
    "def plot_bar_chart(variable,y_label=None,title=None,color='SkyBlue',width = 0.30, x_axis_width=5,rotation=0):\n",
    "    \n",
    "    counter = Counter(variable.tolist())\n",
    "    counter = sorted(counter.items())\n",
    "\n",
    "    values = [i[1] for i in counter]\n",
    "    values_percentage= [round((x / sum(values))*100,1) for x in list(map(float, values))]\n",
    "    x_labels = [i[0] for i in counter]\n",
    "    ind = np.arange(len(values))  # the x locations for the groups\n",
    "    \n",
    "    fig = plt.figure(figsize=(x_axis_width, 5))\n",
    "    ax = fig.add_subplot(111)\n",
    "  \n",
    "\n",
    "    #fig, ax = plt.subplots()\n",
    "    rects = ax.bar(ind - width/2, values_percentage, width, \n",
    "                color=color)\n",
    "\n",
    "\n",
    "    # Add some text for labels, title and custom x-axis tick labels, etc.\n",
    "    ax.set_ylabel(y_label)\n",
    "    ax.set_title(title)\n",
    "    ax.set_xticks(ind-width/2)\n",
    "    ax.set_xticklabels(x_labels)\n",
    "    plt.xticks(rotation=rotation)\n",
    "    plt.yticks(np.arange(0, max(values_percentage)+5,2),visible=False)\n",
    "    \n",
    "\n",
    "\n",
    "    xpos = 'center'\n",
    "    ha = {'center': 'center', 'right': 'left', 'left': 'right'}\n",
    "    offset = {'center': 0.5, 'right': 0.57, 'left': 0.43}  # x_txt = x + w*off\n",
    "    #percentages = [x/sum(values) for x in values]\n",
    "\n",
    "    for rect in rects:\n",
    "        height = rect.get_height()\n",
    "        ax.text(rect.get_x() + rect.get_width()*offset[xpos], 1.01*height,\n",
    "                '{}'.format(height), ha=ha[xpos], va='bottom')\n",
    "    plt.show()\n",
    "    \n",
    "    return"
   ]
  },
  {
   "cell_type": "code",
   "execution_count": 11,
   "metadata": {},
   "outputs": [
    {
     "data": {
      "image/png": "[encoded data removed]",
      "text/plain": [
       "<matplotlib.figure.Figure at 0x7effb86e3b38>"
      ]
     },
     "metadata": {},
     "output_type": "display_data"
    }
   ],
   "source": [
    "# Plotting a bar chart social class distribution, counting households only once\n",
    "# The \"drop_duplicates\" of household_index is used for that.\n",
    "plot_bar_chart(df_all.drop_duplicates('household_index')['Class'],\n",
    "               y_label='Percentage (%)',title='Class',color='SkyBlue',width = 0.30,x_axis_width=7)"
   ]
  },
  {
   "cell_type": "code",
   "execution_count": 12,
   "metadata": {
    "collapsed": true
   },
   "outputs": [],
   "source": [
    "import matplotlib.pyplot as plt\n",
    "import numpy as np\n",
    "#function for a boxplot chart to show the income distribution per social class\n",
    "def print_boxplot(df,x_axis_width=7, y_axis_height=7):\n",
    "    \n",
    "    fig = plt.figure(figsize=(x_axis_width, y_axis_height))\n",
    "    ax = fig.add_subplot(111)\n",
    "    data = [df.loc[df.Class == 'E','monthly_family_income'],\n",
    "            df.loc[df.Class == 'D','monthly_family_income'],\n",
    "            df.loc[df.Class == 'C','monthly_family_income'],\n",
    "            df.loc[df.Class == 'B','monthly_family_income'],\n",
    "            df.loc[df.Class == 'A','monthly_family_income']]\n",
    "    labels = ['E','D','C','B','A']\n",
    "    plt.yticks(np.arange(0, data[4].max(), 2500))\n",
    "    ax.boxplot(data,labels=labels,showfliers=False)\n",
    "    plt.show()\n",
    "    return"
   ]
  },
  {
   "cell_type": "code",
   "execution_count": 13,
   "metadata": {},
   "outputs": [
    {
     "name": "stderr",
     "output_type": "stream",
     "text": [
      "/home/lopasso/anaconda3/lib/python3.6/site-packages/numpy/core/fromnumeric.py:52: FutureWarning: reshape is deprecated and will raise in a subsequent release. Please use .values.reshape(...) instead\n",
      "  return getattr(obj, method)(*args, **kwds)\n"
     ]
    },
    {
     "data": {
      "image/png": "[encoded data removed]",
      "text/plain": [
       "<matplotlib.figure.Figure at 0x7effb3f1c748>"
      ]
     },
     "metadata": {},
     "output_type": "display_data"
    }
   ],
   "source": [
    "print_boxplot(df_all.drop_duplicates('household_index'))"
   ]
  },
  {
   "cell_type": "markdown",
   "metadata": {},
   "source": [
    "## Feature Engineering"
   ]
  },
  {
   "cell_type": "code",
   "execution_count": 14,
   "metadata": {},
   "outputs": [],
   "source": [
    "def clean_data(df):\n",
    "  df.loc[:,'people_per_bathroom']=df.loc[:,'V4724_number_of_people_in_family']/df.loc[:,'V2016_number_of_bathrooms']\n",
    "  df.loc[:,'people_per_room']=df.loc[:,'V4724_number_of_people_in_family']/df.loc[:,'V0205_number_of_rooms']\n",
    "  df.loc[:,'people_per_bedroom']=df.loc[:,'V4724_number_of_people_in_family']/df.loc[:,'V0206_number_of_bedrooms']\n",
    "  \n",
    "  COLUMNS_TO_FLOAT = ['V4724_number_of_people_in_family','V8005_age','V2016_number_of_bathrooms','V0205_number_of_rooms',\n",
    "        'V0206_number_of_bedrooms','people_per_bathroom','people_per_room','people_per_bedroom']\n",
    "  df[COLUMNS_TO_FLOAT] = df[COLUMNS_TO_FLOAT].astype(np.float32)\n",
    "\n",
    "  booleanDictionary = {True: 'True', False: 'False'}\n",
    "  df.V0601_read_write =  df.V0601_read_write.replace(booleanDictionary)\n",
    "\n",
    "  type_of_areaDictionary = {'Urban – city or town, urbanized area' : 'urban',\n",
    "                            'Rural – rural zone, not conglomerate' : 'rural',\n",
    "                            'Rural – rural conglomerate, isolated, town' : 'rural',\n",
    "                            'urban – city or town, not urbanized area' : 'urban',\n",
    "                            'Rural – conglomerate of urban extension' : 'rural',\n",
    "                            'Rural – rural conglomerate, isolated, nucleos' : 'rural',\n",
    "                            'Urban – isolated urban area' : 'urban',\n",
    "                            'Rural – rural conglomerate, isolated, other conglomerates' : 'rural'}\n",
    "\n",
    "  df.V4728_type_of_area =  df.V4728_type_of_area.replace(type_of_areaDictionary)\n",
    "  \n",
    "  df['income_range']=''\n",
    "  df.loc[df['monthly_family_income'] <=6585, 'income_range']  = 'income<=6585'\n",
    "  df.loc[df['monthly_family_income'] >6585,'income_range'] = 'income>6585'\n",
    "  df.loc[df['Class'] =='not declared','income_range'] = 'not declared'\n",
    "  \n",
    "  \n",
    "  df_features = ['household_index', 'UF_string', 'V0302_gender', 'V4745_highest_level_of_education', 'V8005_age',\n",
    "                'V0404_race', 'V4011_marital_status', 'V0601_read_write',\n",
    "                'V4715_position_at_work_last_year', 'V4816_economic_activity_last_year',\n",
    "                'V4817_occupational_work_groups_last_year', 'V4723_family_type',\n",
    "                'V4724_number_of_people_in_family', 'V4728_type_of_area', \n",
    "                'V0201_household_specie_a', 'V0202_household_type_a',\n",
    "                'V0203_wall_material_a', 'V0204_roof_material_a',\n",
    "                'V0205_number_of_rooms', 'V0206_number_of_bedrooms',\n",
    "                'V0207_occupation_condition_a', 'V0210_terrain_is_owned_a',\n",
    "                'V0211_water_service_a', 'V0212_water_source_a', 'V0215_bathroom',\n",
    "                'V0216_shared_bathroom_a', 'V2016_number_of_bathrooms',\n",
    "                'V0217_sewage_type_a', 'V0218_trash_disposal_a', 'V0219_lightening_a',\n",
    "                'V0220_mobile_phone', 'V2020_fixed_phone',\n",
    "                'V0221_stove_2_or_more_burners', 'V0222_stove_1_burner',\n",
    "                'V0223_type_of_stove_fuel_a', 'V0224_water_filter', 'V0225_radio',\n",
    "                'V0226_color_TV_set', 'V0228_fridge_type_a', 'V0229_freezer',\n",
    "                'V0230_washing_machine', 'V0231_personal_computer',\n",
    "                'V0232_PC_acessing_Internet', 'V2032_car_motorcycle_a','people_per_bathroom', 'people_per_room',\n",
    "                'people_per_bedroom','income_range']\n",
    "\n",
    "  df=df[df_features]\n",
    "  df = df.dropna(how=\"any\", axis=0)\n",
    "  \n",
    "  return df\n"
   ]
  },
  {
   "cell_type": "code",
   "execution_count": 15,
   "metadata": {},
   "outputs": [],
   "source": [
    "df = clean_data(df_all)\n"
   ]
  },
  {
   "cell_type": "code",
   "execution_count": 16,
   "metadata": {},
   "outputs": [
    {
     "data": {
      "image/png": "[encoded data removed]",
      "text/plain": [
       "<matplotlib.figure.Figure at 0x7effad467b38>"
      ]
     },
     "metadata": {},
     "output_type": "display_data"
    }
   ],
   "source": [
    "plot_bar_chart(df.drop_duplicates('household_index')['income_range'],\n",
    "               y_label='Percentage (%)',title='Class',color='SkyBlue',width = 0.30,x_axis_width=7)"
   ]
  },
  {
   "cell_type": "code",
   "execution_count": 17,
   "metadata": {},
   "outputs": [
    {
     "data": {
      "text/plain": [
       "(255077, 48)"
      ]
     },
     "execution_count": 17,
     "metadata": {},
     "output_type": "execute_result"
    }
   ],
   "source": [
    "df.shape\n"
   ]
  },
  {
   "cell_type": "markdown",
   "metadata": {},
   "source": [
    "# Data split into train, validation and test datasets"
   ]
  },
  {
   "cell_type": "code",
   "execution_count": 73,
   "metadata": {},
   "outputs": [
    {
     "name": "stdout",
     "output_type": "stream",
     "text": [
      "(5383, 48) (249694, 48)\n"
     ]
    }
   ],
   "source": [
    "dataset_not_declared = df.loc[df['income_range']=='not declared']\n",
    "dataset = df.loc[df['income_range']!='not declared'] # dataset has no more 'not declared'\n",
    "\n",
    "print(dataset_not_declared.shape,dataset.shape)"
   ]
  },
  {
   "cell_type": "code",
   "execution_count": 74,
   "metadata": {},
   "outputs": [
    {
     "data": {
      "image/png": "[encoded data removed]",
      "text/plain": [
       "<matplotlib.figure.Figure at 0x7effe0880dd8>"
      ]
     },
     "metadata": {},
     "output_type": "display_data"
    }
   ],
   "source": [
    "plot_bar_chart(dataset['income_range'],\n",
    "               y_label='Percentage (%)',title='Class',color='SkyBlue',width = 0.30,x_axis_width=7)"
   ]
  },
  {
   "cell_type": "code",
   "execution_count": 76,
   "metadata": {
    "collapsed": true
   },
   "outputs": [],
   "source": [
    "# In order to avoid data leakage we are controlling individuals that will be included in each dataset(train, validation and test) \n",
    "# to be from \n",
    "# the same family, i.e., for each family, all the members will go either to train or test dataset. This will avoid that we will\n",
    "# test and individuals whose family data was used to train the model using the data from another member of the same family\n",
    "\n",
    "family_index_unique = dataset.drop_duplicates('household_index')['household_index']\n",
    "\n",
    "test_index = family_index_unique.sample(frac=0.1)\n",
    "\n",
    "X_features = ['UF_string',  'V4745_highest_level_of_education', 'V8005_age',\n",
    "       'V0404_race', 'V4011_marital_status', 'V0601_read_write',\n",
    "       'V4715_position_at_work_last_year', 'V4816_economic_activity_last_year',\n",
    "       'V4817_occupational_work_groups_last_year', 'V4723_family_type',\n",
    "       'V4724_number_of_people_in_family', 'V4728_type_of_area', \n",
    "       'V0201_household_specie_a', 'V0202_household_type_a',\n",
    "       'V0205_number_of_rooms', 'V0206_number_of_bedrooms',\n",
    "       'V0207_occupation_condition_a', 'V0210_terrain_is_owned_a',\n",
    "       'V0215_bathroom', 'V0216_shared_bathroom_a', 'V2016_number_of_bathrooms',\n",
    "       'V2020_fixed_phone','V0230_washing_machine', 'V0231_personal_computer',\n",
    "       'V0232_PC_acessing_Internet', 'V2032_car_motorcycle_a','people_per_bathroom', 'people_per_room',\n",
    "       'people_per_bedroom']\n",
    "y_labels = ['income_range']\n",
    "\n",
    "X_test = dataset.loc[dataset['household_index'].isin(test_index), X_features]\n",
    "y_test = dataset.loc[dataset['household_index'].isin(test_index), y_labels]\n",
    "\n",
    "dataset_without_test = dataset.loc[~dataset['household_index'].isin(test_index)]"
   ]
  },
  {
   "cell_type": "code",
   "execution_count": 77,
   "metadata": {},
   "outputs": [
    {
     "name": "stdout",
     "output_type": "stream",
     "text": [
      "(24941, 29) (24941, 1) (224753, 48)\n"
     ]
    }
   ],
   "source": [
    "print(X_test.shape,y_test.shape,dataset_without_test.shape)"
   ]
  },
  {
   "cell_type": "code",
   "execution_count": 78,
   "metadata": {
    "collapsed": true
   },
   "outputs": [],
   "source": [
    "family_index_unique2 = dataset_without_test.drop_duplicates('household_index')['household_index']\n",
    "\n",
    "validation_index = family_index_unique2.sample(frac=0.1)\n",
    "\n",
    "dataset_validation = dataset_without_test.loc[dataset_without_test['household_index'].isin(validation_index)]\n",
    "dataset_train = dataset_without_test.loc[~dataset_without_test['household_index'].isin(validation_index)]"
   ]
  },
  {
   "cell_type": "code",
   "execution_count": 79,
   "metadata": {},
   "outputs": [
    {
     "name": "stdout",
     "output_type": "stream",
     "text": [
      "(22382, 48) (202371, 48)\n"
     ]
    }
   ],
   "source": [
    "print(dataset_validation.shape,dataset_train.shape)"
   ]
  },
  {
   "cell_type": "code",
   "execution_count": 80,
   "metadata": {},
   "outputs": [
    {
     "data": {
      "image/png": "[encoded data removed]",
      "text/plain": [
       "<matplotlib.figure.Figure at 0x7effdc9b7978>"
      ]
     },
     "metadata": {},
     "output_type": "display_data"
    }
   ],
   "source": [
    "plot_bar_chart(dataset_train.drop_duplicates('household_index')['income_range'],\n",
    "               y_label='Percentage (%)',title='Class',color='SkyBlue',width = 0.30,x_axis_width=7)"
   ]
  },
  {
   "cell_type": "code",
   "execution_count": 81,
   "metadata": {},
   "outputs": [
    {
     "data": {
      "image/png": "[encoded data removed]",
      "text/plain": [
       "<matplotlib.figure.Figure at 0x7effe4642da0>"
      ]
     },
     "metadata": {},
     "output_type": "display_data"
    }
   ],
   "source": [
    "plot_bar_chart(dataset_validation.drop_duplicates('household_index')['income_range'],\n",
    "               y_label='Percentage (%)',title='Class',color='SkyBlue',width = 0.30,x_axis_width=7)"
   ]
  },
  {
   "cell_type": "code",
   "execution_count": 82,
   "metadata": {},
   "outputs": [],
   "source": [
    "#undersampling for the validation dataset\n",
    "undersample = dataset_validation.loc[dataset_validation['income_range']=='income<=6585'].sample(frac=0.12)\n",
    "dataset_validation = dataset_validation.loc[dataset_validation['income_range']=='income>6585'] \n",
    "dataset_validation = dataset_validation.append(undersample,ignore_index=True)"
   ]
  },
  {
   "cell_type": "code",
   "execution_count": 83,
   "metadata": {},
   "outputs": [
    {
     "data": {
      "text/plain": [
       "(4649, 48)"
      ]
     },
     "execution_count": 83,
     "metadata": {},
     "output_type": "execute_result"
    }
   ],
   "source": [
    "dataset_validation.shape\n"
   ]
  },
  {
   "cell_type": "code",
   "execution_count": 84,
   "metadata": {},
   "outputs": [
    {
     "data": {
      "image/png": "[encoded data removed]",
      "text/plain": [
       "<matplotlib.figure.Figure at 0x7effbeb10048>"
      ]
     },
     "metadata": {},
     "output_type": "display_data"
    }
   ],
   "source": [
    "plot_bar_chart(dataset_validation['income_range'],\n",
    "               y_label='Percentage (%)',title='Class',color='SkyBlue',width = 0.30,x_axis_width=7)"
   ]
  },
  {
   "cell_type": "code",
   "execution_count": 85,
   "metadata": {},
   "outputs": [],
   "source": [
    "#undersampling for the train dataset\n",
    "undersample2 = dataset_train.loc[dataset_train['income_range']=='income<=6585'].sample(frac=0.12)\n",
    "dataset_train = dataset_train.loc[dataset_train['income_range']=='income>6585'] \n",
    "dataset_train = dataset_train.append(undersample2,ignore_index=True)"
   ]
  },
  {
   "cell_type": "code",
   "execution_count": 86,
   "metadata": {},
   "outputs": [
    {
     "data": {
      "image/png": "[encoded data removed]",
      "text/plain": [
       "<matplotlib.figure.Figure at 0x7effc62d0198>"
      ]
     },
     "metadata": {},
     "output_type": "display_data"
    }
   ],
   "source": [
    "plot_bar_chart(dataset_train['income_range'],\n",
    "               y_label='Percentage (%)',title='Class',color='SkyBlue',width = 0.30,x_axis_width=7)"
   ]
  },
  {
   "cell_type": "code",
   "execution_count": 87,
   "metadata": {},
   "outputs": [],
   "source": [
    "\n",
    "\n",
    "X_validation = dataset_validation[X_features]\n",
    "y_validation = dataset_validation[y_labels]\n",
    "\n",
    "X_train = dataset_train[X_features]\n",
    "y_train = dataset_train[y_labels]\n"
   ]
  },
  {
   "cell_type": "code",
   "execution_count": 88,
   "metadata": {},
   "outputs": [
    {
     "name": "stdout",
     "output_type": "stream",
     "text": [
      "(43073, 29) (43073, 1) (4649, 29) (4649, 1)\n"
     ]
    }
   ],
   "source": [
    "print(X_train.shape,y_train.shape,X_validation.shape, y_validation.shape)"
   ]
  },
  {
   "cell_type": "markdown",
   "metadata": {},
   "source": [
    "# Tensorflow Deep-and-wide classification model"
   ]
  },
  {
   "cell_type": "code",
   "execution_count": 33,
   "metadata": {},
   "outputs": [
    {
     "name": "stderr",
     "output_type": "stream",
     "text": [
      "/home/lopasso/anaconda3/lib/python3.6/site-packages/h5py/__init__.py:34: FutureWarning: Conversion of the second argument of issubdtype from `float` to `np.floating` is deprecated. In future, it will be treated as `np.float64 == np.dtype(float).type`.\n",
      "  from ._conv import register_converters as _register_converters\n"
     ]
    }
   ],
   "source": [
    "import tensorflow as tf"
   ]
  },
  {
   "cell_type": "code",
   "execution_count": 34,
   "metadata": {},
   "outputs": [
    {
     "data": {
      "text/plain": [
       "Index(['household_index', 'UF_string', 'V0302_gender',\n",
       "       'V4745_highest_level_of_education', 'V8005_age', 'V0404_race',\n",
       "       'V4011_marital_status', 'V0601_read_write',\n",
       "       'V4715_position_at_work_last_year', 'V4816_economic_activity_last_year',\n",
       "       'V4817_occupational_work_groups_last_year', 'V4723_family_type',\n",
       "       'V4724_number_of_people_in_family', 'V4728_type_of_area',\n",
       "       'V0201_household_specie_a', 'V0202_household_type_a',\n",
       "       'V0203_wall_material_a', 'V0204_roof_material_a',\n",
       "       'V0205_number_of_rooms', 'V0206_number_of_bedrooms',\n",
       "       'V0207_occupation_condition_a', 'V0210_terrain_is_owned_a',\n",
       "       'V0211_water_service_a', 'V0212_water_source_a', 'V0215_bathroom',\n",
       "       'V0216_shared_bathroom_a', 'V2016_number_of_bathrooms',\n",
       "       'V0217_sewage_type_a', 'V0218_trash_disposal_a', 'V0219_lightening_a',\n",
       "       'V0220_mobile_phone', 'V2020_fixed_phone',\n",
       "       'V0221_stove_2_or_more_burners', 'V0222_stove_1_burner',\n",
       "       'V0223_type_of_stove_fuel_a', 'V0224_water_filter', 'V0225_radio',\n",
       "       'V0226_color_TV_set', 'V0228_fridge_type_a', 'V0229_freezer',\n",
       "       'V0230_washing_machine', 'V0231_personal_computer',\n",
       "       'V0232_PC_acessing_Internet', 'V2032_car_motorcycle_a',\n",
       "       'people_per_bathroom', 'people_per_room', 'people_per_bedroom',\n",
       "       'income_range'],\n",
       "      dtype='object')"
      ]
     },
     "execution_count": 34,
     "metadata": {},
     "output_type": "execute_result"
    }
   ],
   "source": [
    "dataset.columns"
   ]
  },
  {
   "cell_type": "code",
   "execution_count": 35,
   "metadata": {},
   "outputs": [
    {
     "data": {
      "text/plain": [
       "array(['rented', 'owned already paid', 'owned still paying',\n",
       "       'ceded other way', 'ceded by employer', 'other condition'],\n",
       "      dtype=object)"
      ]
     },
     "execution_count": 35,
     "metadata": {},
     "output_type": "execute_result"
    }
   ],
   "source": [
    "dataset.V0207_occupation_condition_a.unique()"
   ]
  },
  {
   "cell_type": "code",
   "execution_count": 36,
   "metadata": {},
   "outputs": [],
   "source": [
    "# categorical input features\n",
    "\n",
    "\n",
    "# Individual info\n",
    "\n",
    "#gender = tf.feature_column.categorical_column_with_vocabulary_list(\n",
    "#        'V0302_gender',\n",
    "#        ['female', 'male'])\n",
    "\n",
    "marital_status = tf.feature_column.categorical_column_with_vocabulary_list(\n",
    "        'V4011_marital_status',\n",
    "        ['single', 'legally_divorced', 'not applicable', 'married',\n",
    "       'separated', 'widowed'])\n",
    "\n",
    "# Family info\n",
    "\n",
    "type_of_family = tf.feature_column.categorical_column_with_vocabulary_list(\n",
    "        'V4723_family_type',\n",
    "        ['other types of families', 'mother with all kids younger than 14',\n",
    "       'couple with kids younger and older than 14',\n",
    "       'couple with kids with 14 or older', 'couple without kids',\n",
    "       'mother with kids with 14 or older',\n",
    "       'couple with all kids younger than 14',\n",
    "       'mother with kids younger and older than 14'])\n",
    "\n",
    "\n",
    "# Education of the individual\n",
    "\n",
    "highest_level_of_education = tf.feature_column.categorical_column_with_vocabulary_list(\n",
    "        'V4745_highest_level_of_education',\n",
    "        ['completed high school', 'incompleted elementary',\n",
    "       'incompleted university degree', 'no education',\n",
    "       'completed elementary', 'completed university degree',\n",
    "       'indetermined', 'incompleted high school'])\n",
    "\n",
    "read_write = tf.feature_column.categorical_column_with_vocabulary_list(\n",
    "        'V0601_read_write',\n",
    "        [ 'True', 'False'])\n",
    "\n",
    "# Work of the individual\n",
    "\n",
    "position_at_work = tf.feature_column.categorical_column_with_vocabulary_list(\n",
    "        'V4715_position_at_work_last_year',\n",
    "        ['Public employee', 'not applicable', 'regular employee',\n",
    "       'Informal employee', 'domestic informal employee', 'self-employed',\n",
    "       'working on construction for own use', 'employeer',\n",
    "       'domestic formal employee', 'militar',\n",
    "       'working on own consumpltion', 'not paid'])\n",
    "\n",
    "occupational_work_groups = tf.feature_column.categorical_column_with_vocabulary_list(\n",
    "        'V4817_occupational_work_groups_last_year',\n",
    "        ['administrative services workers', 'technicians', 'not applicable',\n",
    "       'sciences and arts professionals',\n",
    "       'goods and services production workers', 'service workers',\n",
    "       'agriculture workers', 'salespeople and commerce workers',\n",
    "       'managers', 'military', 'badly defined occupations'])\n",
    "\n",
    "economic_activity = tf.feature_column.categorical_column_with_vocabulary_list(\n",
    "        'V4816_economic_activity_last_year',\n",
    "        ['public administration', 'education, health and social services',\n",
    "       'not applicable', 'transformation industry',\n",
    "       'transport, storage and communication', 'commerce and repair',\n",
    "       'lodging and catering', 'domestic services',\n",
    "       'other collective services, social and personal', 'agriculture',\n",
    "       'construction', 'other manufacturing activities',\n",
    "       'other activities', 'badly defined activities'])\n",
    "\n",
    "#Location of the household and type\n",
    "\n",
    "state = tf.feature_column.categorical_column_with_vocabulary_list(\n",
    "        'UF_string',\n",
    "       ['Rondônia', 'Acre', 'Amazonas', 'Roraima', 'Pará', 'Amapá',\n",
    "       'Tocantins', 'Maranhão', 'Piauí', 'Ceará', 'Rio Grande do Norte',\n",
    "       'Paraíba', 'Pernambuco', 'Alagoas', 'Sergipe', 'Bahia',\n",
    "       'Minas Gerais', 'Espírito Santo', 'Rio de Janeiro', 'São Paulo',\n",
    "       'Paraná', 'Santa Catarina', 'Rio Grande do Sul',\n",
    "       'Mato Grosso do Sul', 'Mato Grosso', 'Goiás', 'Distrito Federal'])\n",
    "\n",
    "type_of_census_area = tf.feature_column.categorical_column_with_vocabulary_list(\n",
    "        'V4728_type_of_area',\n",
    "        ['urban','rural'])\n",
    "\n",
    "\n",
    "household_type = tf.feature_column.categorical_column_with_vocabulary_list(\n",
    "        'V0202_household_type_a',\n",
    "        ['House', 'Apartment', 'Room'])\n",
    "\n",
    "household_occupation_condition = tf.feature_column.categorical_column_with_vocabulary_list(\n",
    "        'V0207_occupation_condition_a',\n",
    "        ['rented', 'owned already paid', 'owned still paying',\n",
    "       'ceded by employer', 'ceded other way', 'other condition'])\n",
    "\n",
    "#census_area = tf.feature_column.categorical_column_with_hash_bucket('UPA_census_area',hash_bucket_size=100, dtype=tf.string)\n",
    "\n",
    "# household goods\n",
    "\n",
    "car_motorcycle = tf.feature_column.categorical_column_with_vocabulary_list(\n",
    "        'V2032_car_motorcycle_a',\n",
    "        ['Car', 'Motorcycle', 'Car and motorcycle', 'No'])\n",
    "\n",
    "PC_acessing_Internet = tf.feature_column.categorical_column_with_vocabulary_list(\n",
    "        'V0232_PC_acessing_Internet',\n",
    "        ['true', 'not applicable', 'false'])\n",
    "\n",
    "personal_computer = tf.feature_column.categorical_column_with_vocabulary_list(\n",
    "        'V0231_personal_computer',\n",
    "        ['true', 'not applicable', 'false'])\n",
    "\n",
    "washing_machine = tf.feature_column.categorical_column_with_vocabulary_list(\n",
    "        'V0230_washing_machine',\n",
    "        ['true', 'not applicable', 'false'])\n",
    "\n",
    "fixed_phone = tf.feature_column.categorical_column_with_vocabulary_list(\n",
    "        'V2020_fixed_phone',\n",
    "        ['true', 'not applicable', 'false'])"
   ]
  },
  {
   "cell_type": "code",
   "execution_count": 37,
   "metadata": {
    "collapsed": true
   },
   "outputs": [],
   "source": [
    "# numerical input features\n",
    "\n",
    "# Individual\n",
    "age = tf.feature_column.numeric_column('V8005_age')\n",
    "age_buckets = tf.feature_column.bucketized_column(age,boundaries=[18, 25, 30, 35, 40, 45, 50, 55, 60, 65])\n",
    "\n",
    "# Family\n",
    "number_of_people_in_the_family = tf.feature_column.numeric_column('V4724_number_of_people_in_family')\n",
    "number_of_people_buckets = tf.feature_column.bucketized_column(number_of_people_in_the_family,\n",
    "                                                  boundaries=[1,2,3,4,5,7,10])\n",
    "\n",
    "# Household\n",
    "number_of_bathrooms = tf.feature_column.numeric_column('V2016_number_of_bathrooms')\n",
    "number_of_rooms = tf.feature_column.numeric_column('V0205_number_of_rooms')\n",
    "number_of_bedrooms = tf.feature_column.numeric_column('V0206_number_of_bedrooms')\n",
    "people_per_bathroom = tf.feature_column.numeric_column('people_per_bathroom')\n",
    "people_per_room = tf.feature_column.numeric_column('people_per_room')\n",
    "people_per_bedroom = tf.feature_column.numeric_column('people_per_bedroom')\n",
    "\n"
   ]
  },
  {
   "cell_type": "code",
   "execution_count": 38,
   "metadata": {},
   "outputs": [],
   "source": [
    "#print(number_of_people_in_the_family)"
   ]
  },
  {
   "cell_type": "code",
   "execution_count": 39,
   "metadata": {},
   "outputs": [],
   "source": [
    "wide_columns = [\n",
    "  \n",
    "      tf.feature_column.crossed_column(\n",
    "          [ type_of_census_area,state,household_type,household_occupation_condition], hash_bucket_size=1000),\n",
    "      tf.feature_column.crossed_column(\n",
    "          [household_type, number_of_people_buckets], hash_bucket_size=200),\n",
    "      tf.feature_column.crossed_column(\n",
    "          [age_buckets, highest_level_of_education], hash_bucket_size=int(1e3)),\n",
    "      tf.feature_column.crossed_column(\n",
    "          [age_buckets, read_write], hash_bucket_size=int(1e3)),\n",
    "      tf.feature_column.crossed_column(\n",
    "          [position_at_work, economic_activity, occupational_work_groups], hash_bucket_size=int(1e3)),\n",
    "        tf.feature_column.crossed_column(\n",
    "          [car_motorcycle,PC_acessing_Internet, personal_computer, washing_machine, fixed_phone], hash_bucket_size=int(200)),\n",
    "      tf.feature_column.crossed_column(\n",
    "          [age_buckets, highest_level_of_education, type_of_census_area], hash_bucket_size=int(500)),\n",
    "      car_motorcycle,\n",
    "      PC_acessing_Internet,\n",
    "      personal_computer,\n",
    "      washing_machine,\n",
    "      fixed_phone,\n",
    "      highest_level_of_education,\n",
    "      read_write,\n",
    "      position_at_work,\n",
    "      economic_activity,\n",
    "      #type_of_family,\n",
    "      #census_area\n",
    "]"
   ]
  },
  {
   "cell_type": "code",
   "execution_count": 40,
   "metadata": {
    "collapsed": true
   },
   "outputs": [],
   "source": [
    "deep_columns = [  \n",
    "      tf.feature_column.indicator_column(car_motorcycle),\n",
    "      tf.feature_column.indicator_column(PC_acessing_Internet),\n",
    "      tf.feature_column.indicator_column(personal_computer),\n",
    "      tf.feature_column.indicator_column(washing_machine),\n",
    "      tf.feature_column.indicator_column(fixed_phone),\n",
    "      tf.feature_column.indicator_column(highest_level_of_education),\n",
    "      tf.feature_column.indicator_column(read_write),\n",
    "      tf.feature_column.indicator_column(position_at_work),\n",
    "      tf.feature_column.indicator_column(economic_activity),\n",
    "      #tf.feature_column.indicator_column(type_of_family),\n",
    "      #tf.feature_column.embedding_column(census_area, dimension=8),\n",
    "      number_of_people_in_the_family,\n",
    "      age,\n",
    "      number_of_bathrooms,\n",
    "      number_of_rooms,\n",
    "      number_of_bedrooms,\n",
    "      people_per_bathroom,\n",
    "      people_per_room,\n",
    "      people_per_bedroom \n",
    "]\n"
   ]
  },
  {
   "cell_type": "code",
   "execution_count": 90,
   "metadata": {},
   "outputs": [
    {
     "name": "stdout",
     "output_type": "stream",
     "text": [
      "PNAD_1525049347\n"
     ]
    }
   ],
   "source": [
    "import time\n",
    "MODEL_DIR = \"PNAD_%s\" % (int(time.time()))\n",
    "print(MODEL_DIR)\n",
    "config=tf.contrib.learn.RunConfig(\n",
    "        save_checkpoints_steps=250,\n",
    "        save_checkpoints_secs=None,\n",
    "        save_summary_steps=100,\n",
    "    )\n",
    "\n"
   ]
  },
  {
   "cell_type": "code",
   "execution_count": 91,
   "metadata": {},
   "outputs": [
    {
     "name": "stdout",
     "output_type": "stream",
     "text": [
      "INFO:tensorflow:Using config: {'_task_type': None, '_task_id': 0, '_cluster_spec': <tensorflow.python.training.server_lib.ClusterSpec object at 0x7effc87d6be0>, '_master': '', '_num_ps_replicas': 0, '_num_worker_replicas': 0, '_environment': 'local', '_is_chief': True, '_evaluation_master': '', '_tf_config': gpu_options {\n",
      "  per_process_gpu_memory_fraction: 1.0\n",
      "}\n",
      ", '_tf_random_seed': None, '_save_summary_steps': 100, '_save_checkpoints_secs': None, '_log_step_count_steps': 100, '_session_config': None, '_save_checkpoints_steps': 250, '_keep_checkpoint_max': 5, '_keep_checkpoint_every_n_hours': 10000, '_model_dir': 'PNAD_1525049347'}\n"
     ]
    }
   ],
   "source": [
    "estimator = tf.estimator.DNNLinearCombinedClassifier(\n",
    "    linear_feature_columns=wide_columns,\n",
    "      dnn_feature_columns=deep_columns,\n",
    "      dnn_hidden_units=[200,50],n_classes=2,\n",
    "    label_vocabulary=[\"income<=6585\", \"income>6585\"],\n",
    "    config=config,model_dir=MODEL_DIR)"
   ]
  },
  {
   "cell_type": "markdown",
   "metadata": {},
   "source": [
    "### Input function"
   ]
  },
  {
   "cell_type": "code",
   "execution_count": 92,
   "metadata": {
    "collapsed": true
   },
   "outputs": [],
   "source": [
    "input_func = tf.estimator.inputs.pandas_input_fn(x=X_train,y=y_train,batch_size=100,num_epochs=10000,shuffle=True)"
   ]
  },
  {
   "cell_type": "markdown",
   "metadata": {},
   "source": [
    "## Train model"
   ]
  },
  {
   "cell_type": "code",
   "execution_count": 93,
   "metadata": {},
   "outputs": [
    {
     "name": "stdout",
     "output_type": "stream",
     "text": [
      "INFO:tensorflow:Create CheckpointSaverHook.\n",
      "INFO:tensorflow:Saving checkpoints for 1 into PNAD_1525049347/model.ckpt.\n",
      "INFO:tensorflow:loss = 353.50385, step = 1\n",
      "INFO:tensorflow:global_step/sec: 27.7775\n",
      "INFO:tensorflow:loss = 1.4693155, step = 101 (3.602 sec)\n",
      "INFO:tensorflow:global_step/sec: 41.3195\n",
      "INFO:tensorflow:loss = 12.321781, step = 201 (2.420 sec)\n",
      "INFO:tensorflow:Saving checkpoints for 251 into PNAD_1525049347/model.ckpt.\n",
      "INFO:tensorflow:global_step/sec: 29.8079\n",
      "INFO:tensorflow:loss = 1.8068557, step = 301 (3.357 sec)\n",
      "INFO:tensorflow:global_step/sec: 41.9801\n",
      "INFO:tensorflow:loss = 35.825912, step = 401 (2.381 sec)\n",
      "INFO:tensorflow:Saving checkpoints for 501 into PNAD_1525049347/model.ckpt.\n",
      "INFO:tensorflow:global_step/sec: 31.0691\n",
      "INFO:tensorflow:loss = 3.6553988, step = 501 (3.220 sec)\n",
      "INFO:tensorflow:global_step/sec: 42.0891\n",
      "INFO:tensorflow:loss = 119.42775, step = 601 (2.375 sec)\n",
      "INFO:tensorflow:global_step/sec: 42.2985\n",
      "INFO:tensorflow:loss = 3.4403791, step = 701 (2.364 sec)\n",
      "INFO:tensorflow:Saving checkpoints for 751 into PNAD_1525049347/model.ckpt.\n",
      "INFO:tensorflow:global_step/sec: 31.3847\n",
      "INFO:tensorflow:loss = 1.432083, step = 801 (3.186 sec)\n",
      "INFO:tensorflow:global_step/sec: 42.453\n",
      "INFO:tensorflow:loss = 6.2314787, step = 901 (2.356 sec)\n",
      "INFO:tensorflow:Saving checkpoints for 1001 into PNAD_1525049347/model.ckpt.\n",
      "INFO:tensorflow:global_step/sec: 31.1587\n",
      "INFO:tensorflow:loss = 2.5810525, step = 1001 (3.211 sec)\n",
      "INFO:tensorflow:global_step/sec: 41.9577\n",
      "INFO:tensorflow:loss = 6.476287, step = 1101 (2.382 sec)\n",
      "INFO:tensorflow:global_step/sec: 42.7495\n",
      "INFO:tensorflow:loss = 2.8201213, step = 1201 (2.339 sec)\n",
      "INFO:tensorflow:Saving checkpoints for 1251 into PNAD_1525049347/model.ckpt.\n",
      "INFO:tensorflow:global_step/sec: 31.387\n",
      "INFO:tensorflow:loss = 10.910826, step = 1301 (3.186 sec)\n",
      "INFO:tensorflow:global_step/sec: 42.5301\n",
      "INFO:tensorflow:loss = 2.9361305, step = 1401 (2.351 sec)\n",
      "INFO:tensorflow:Saving checkpoints for 1501 into PNAD_1525049347/model.ckpt.\n",
      "INFO:tensorflow:global_step/sec: 31.2402\n",
      "INFO:tensorflow:loss = 15.370719, step = 1501 (3.201 sec)\n",
      "INFO:tensorflow:global_step/sec: 42.2822\n",
      "INFO:tensorflow:loss = 2.8385658, step = 1601 (2.366 sec)\n",
      "INFO:tensorflow:global_step/sec: 42.2658\n",
      "INFO:tensorflow:loss = 41.8345, step = 1701 (2.366 sec)\n",
      "INFO:tensorflow:Saving checkpoints for 1751 into PNAD_1525049347/model.ckpt.\n",
      "INFO:tensorflow:global_step/sec: 30.8679\n",
      "INFO:tensorflow:loss = 4.907893, step = 1801 (3.239 sec)\n",
      "INFO:tensorflow:global_step/sec: 42.1987\n",
      "INFO:tensorflow:loss = 141.01172, step = 1901 (2.370 sec)\n",
      "INFO:tensorflow:Saving checkpoints for 2001 into PNAD_1525049347/model.ckpt.\n",
      "INFO:tensorflow:global_step/sec: 30.9204\n",
      "INFO:tensorflow:loss = 5.069984, step = 2001 (3.235 sec)\n",
      "INFO:tensorflow:global_step/sec: 41.6461\n",
      "INFO:tensorflow:loss = 2.5473871, step = 2101 (2.400 sec)\n",
      "INFO:tensorflow:global_step/sec: 42.6116\n",
      "INFO:tensorflow:loss = 10.379871, step = 2201 (2.348 sec)\n",
      "INFO:tensorflow:Saving checkpoints for 2251 into PNAD_1525049347/model.ckpt.\n",
      "INFO:tensorflow:global_step/sec: 31.0052\n",
      "INFO:tensorflow:loss = 4.848976, step = 2301 (3.224 sec)\n",
      "INFO:tensorflow:global_step/sec: 42.3948\n",
      "INFO:tensorflow:loss = 10.118719, step = 2401 (2.359 sec)\n",
      "INFO:tensorflow:Saving checkpoints for 2501 into PNAD_1525049347/model.ckpt.\n",
      "INFO:tensorflow:global_step/sec: 31.1956\n",
      "INFO:tensorflow:loss = 2.7656589, step = 2501 (3.206 sec)\n",
      "INFO:tensorflow:global_step/sec: 42.3801\n",
      "INFO:tensorflow:loss = 12.546841, step = 2601 (2.359 sec)\n",
      "INFO:tensorflow:global_step/sec: 42.2705\n",
      "INFO:tensorflow:loss = 5.6754227, step = 2701 (2.367 sec)\n",
      "INFO:tensorflow:Saving checkpoints for 2751 into PNAD_1525049347/model.ckpt.\n",
      "INFO:tensorflow:global_step/sec: 30.9847\n",
      "INFO:tensorflow:loss = 16.79866, step = 2801 (3.226 sec)\n",
      "INFO:tensorflow:global_step/sec: 42.053\n",
      "INFO:tensorflow:loss = 6.5387745, step = 2901 (2.380 sec)\n",
      "INFO:tensorflow:Saving checkpoints for 3001 into PNAD_1525049347/model.ckpt.\n",
      "INFO:tensorflow:global_step/sec: 31.293\n",
      "INFO:tensorflow:loss = 38.126144, step = 3001 (3.194 sec)\n",
      "INFO:tensorflow:global_step/sec: 42.2705\n",
      "INFO:tensorflow:loss = 6.7415633, step = 3101 (2.365 sec)\n",
      "INFO:tensorflow:global_step/sec: 42.0335\n",
      "INFO:tensorflow:loss = 88.88231, step = 3201 (2.379 sec)\n",
      "INFO:tensorflow:Saving checkpoints for 3251 into PNAD_1525049347/model.ckpt.\n",
      "INFO:tensorflow:global_step/sec: 30.9243\n",
      "INFO:tensorflow:loss = 9.447624, step = 3301 (3.234 sec)\n",
      "INFO:tensorflow:global_step/sec: 42.1043\n",
      "INFO:tensorflow:loss = 81.536896, step = 3401 (2.375 sec)\n",
      "INFO:tensorflow:Saving checkpoints for 3501 into PNAD_1525049347/model.ckpt.\n",
      "INFO:tensorflow:global_step/sec: 31.0286\n",
      "INFO:tensorflow:loss = 13.921834, step = 3501 (3.224 sec)\n",
      "INFO:tensorflow:global_step/sec: 41.9627\n",
      "INFO:tensorflow:loss = 5.6132016, step = 3601 (2.382 sec)\n",
      "INFO:tensorflow:global_step/sec: 42.1403\n",
      "INFO:tensorflow:loss = 11.351326, step = 3701 (2.372 sec)\n",
      "INFO:tensorflow:Saving checkpoints for 3751 into PNAD_1525049347/model.ckpt.\n",
      "INFO:tensorflow:global_step/sec: 30.8752\n",
      "INFO:tensorflow:loss = 5.882216, step = 3801 (3.239 sec)\n",
      "INFO:tensorflow:global_step/sec: 42.0508\n",
      "INFO:tensorflow:loss = 15.172168, step = 3901 (2.378 sec)\n",
      "INFO:tensorflow:Saving checkpoints for 4001 into PNAD_1525049347/model.ckpt.\n",
      "INFO:tensorflow:global_step/sec: 30.8132\n",
      "INFO:tensorflow:loss = 5.137098, step = 4001 (3.245 sec)\n",
      "INFO:tensorflow:global_step/sec: 41.9712\n",
      "INFO:tensorflow:loss = 23.496307, step = 4101 (2.383 sec)\n",
      "INFO:tensorflow:global_step/sec: 42.3319\n",
      "INFO:tensorflow:loss = 6.9765134, step = 4201 (2.363 sec)\n",
      "INFO:tensorflow:Saving checkpoints for 4251 into PNAD_1525049347/model.ckpt.\n",
      "INFO:tensorflow:global_step/sec: 30.8614\n",
      "INFO:tensorflow:loss = 33.060726, step = 4301 (3.240 sec)\n",
      "INFO:tensorflow:global_step/sec: 42.0293\n",
      "INFO:tensorflow:loss = 8.062656, step = 4401 (2.379 sec)\n",
      "INFO:tensorflow:Saving checkpoints for 4501 into PNAD_1525049347/model.ckpt.\n",
      "INFO:tensorflow:global_step/sec: 31.0921\n",
      "INFO:tensorflow:loss = 71.19517, step = 4501 (3.217 sec)\n",
      "INFO:tensorflow:global_step/sec: 41.5189\n",
      "INFO:tensorflow:loss = 11.195861, step = 4601 (2.408 sec)\n",
      "INFO:tensorflow:global_step/sec: 40.5848\n",
      "INFO:tensorflow:loss = 91.143585, step = 4701 (2.464 sec)\n",
      "INFO:tensorflow:Saving checkpoints for 4751 into PNAD_1525049347/model.ckpt.\n",
      "INFO:tensorflow:global_step/sec: 29.9383\n",
      "INFO:tensorflow:loss = 13.0638485, step = 4801 (3.340 sec)\n",
      "INFO:tensorflow:global_step/sec: 42.3278\n",
      "INFO:tensorflow:loss = 4.59575, step = 4901 (2.363 sec)\n",
      "INFO:tensorflow:Saving checkpoints for 5001 into PNAD_1525049347/model.ckpt.\n",
      "INFO:tensorflow:global_step/sec: 31.3266\n",
      "INFO:tensorflow:loss = 13.070551, step = 5001 (3.192 sec)\n",
      "INFO:tensorflow:global_step/sec: 42.3901\n",
      "INFO:tensorflow:loss = 8.024204, step = 5101 (2.359 sec)\n",
      "INFO:tensorflow:global_step/sec: 42.5535\n",
      "INFO:tensorflow:loss = 18.294638, step = 5201 (2.350 sec)\n",
      "INFO:tensorflow:Saving checkpoints for 5251 into PNAD_1525049347/model.ckpt.\n",
      "INFO:tensorflow:global_step/sec: 30.835\n",
      "INFO:tensorflow:loss = 8.440958, step = 5301 (3.243 sec)\n",
      "INFO:tensorflow:global_step/sec: 40.7964\n",
      "INFO:tensorflow:loss = 20.312572, step = 5401 (2.451 sec)\n",
      "INFO:tensorflow:Saving checkpoints for 5501 into PNAD_1525049347/model.ckpt.\n",
      "INFO:tensorflow:global_step/sec: 24.9591\n",
      "INFO:tensorflow:loss = 7.6403847, step = 5501 (4.006 sec)\n",
      "INFO:tensorflow:global_step/sec: 35.2701\n",
      "INFO:tensorflow:loss = 37.247818, step = 5601 (2.836 sec)\n",
      "INFO:tensorflow:global_step/sec: 37.3112\n",
      "INFO:tensorflow:loss = 9.169165, step = 5701 (2.681 sec)\n",
      "INFO:tensorflow:Saving checkpoints for 5751 into PNAD_1525049347/model.ckpt.\n",
      "INFO:tensorflow:global_step/sec: 30.2845\n",
      "INFO:tensorflow:loss = 61.409092, step = 5801 (3.301 sec)\n",
      "INFO:tensorflow:global_step/sec: 42.1872\n",
      "INFO:tensorflow:loss = 9.910271, step = 5901 (2.371 sec)\n",
      "INFO:tensorflow:Saving checkpoints for 6001 into PNAD_1525049347/model.ckpt.\n",
      "INFO:tensorflow:global_step/sec: 31.3719\n",
      "INFO:tensorflow:loss = 70.15447, step = 6001 (3.188 sec)\n",
      "INFO:tensorflow:global_step/sec: 42.1585\n",
      "INFO:tensorflow:loss = 11.749933, step = 6101 (2.373 sec)\n",
      "INFO:tensorflow:global_step/sec: 42.0063\n",
      "INFO:tensorflow:loss = 75.91203, step = 6201 (2.379 sec)\n",
      "INFO:tensorflow:Saving checkpoints for 6251 into PNAD_1525049347/model.ckpt.\n",
      "INFO:tensorflow:global_step/sec: 31.4136\n"
     ]
    },
    {
     "name": "stdout",
     "output_type": "stream",
     "text": [
      "INFO:tensorflow:loss = 11.470337, step = 6301 (3.183 sec)\n",
      "INFO:tensorflow:global_step/sec: 42.6023\n",
      "INFO:tensorflow:loss = 5.064629, step = 6401 (2.347 sec)\n",
      "INFO:tensorflow:Saving checkpoints for 6501 into PNAD_1525049347/model.ckpt.\n",
      "INFO:tensorflow:global_step/sec: 31.3517\n",
      "INFO:tensorflow:loss = 18.437267, step = 6501 (3.190 sec)\n",
      "INFO:tensorflow:global_step/sec: 42.3235\n",
      "INFO:tensorflow:loss = 11.440885, step = 6601 (2.363 sec)\n",
      "INFO:tensorflow:global_step/sec: 42.9201\n",
      "INFO:tensorflow:loss = 18.504017, step = 6701 (2.330 sec)\n",
      "INFO:tensorflow:Saving checkpoints for 6751 into PNAD_1525049347/model.ckpt.\n",
      "INFO:tensorflow:global_step/sec: 31.4618\n",
      "INFO:tensorflow:loss = 9.326849, step = 6801 (3.178 sec)\n",
      "INFO:tensorflow:global_step/sec: 42.5211\n",
      "INFO:tensorflow:loss = 37.259926, step = 6901 (2.352 sec)\n",
      "INFO:tensorflow:Saving checkpoints for 7001 into PNAD_1525049347/model.ckpt.\n",
      "INFO:tensorflow:global_step/sec: 31.1259\n",
      "INFO:tensorflow:loss = 9.026836, step = 7001 (3.213 sec)\n",
      "INFO:tensorflow:global_step/sec: 42.7375\n",
      "INFO:tensorflow:loss = 43.482452, step = 7101 (2.340 sec)\n",
      "INFO:tensorflow:global_step/sec: 43.1585\n",
      "INFO:tensorflow:loss = 7.443168, step = 7201 (2.317 sec)\n",
      "INFO:tensorflow:Saving checkpoints for 7251 into PNAD_1525049347/model.ckpt.\n",
      "INFO:tensorflow:global_step/sec: 31.1918\n",
      "INFO:tensorflow:loss = 64.14343, step = 7301 (3.206 sec)\n",
      "INFO:tensorflow:global_step/sec: 42.4062\n",
      "INFO:tensorflow:loss = 16.027515, step = 7401 (2.358 sec)\n",
      "INFO:tensorflow:Saving checkpoints for 7501 into PNAD_1525049347/model.ckpt.\n",
      "INFO:tensorflow:global_step/sec: 31.379\n",
      "INFO:tensorflow:loss = 103.29487, step = 7501 (3.188 sec)\n",
      "INFO:tensorflow:global_step/sec: 42.3712\n",
      "INFO:tensorflow:loss = 16.254192, step = 7601 (2.358 sec)\n",
      "INFO:tensorflow:global_step/sec: 42.2574\n",
      "INFO:tensorflow:loss = 9.110954, step = 7701 (2.368 sec)\n",
      "INFO:tensorflow:Saving checkpoints for 7751 into PNAD_1525049347/model.ckpt.\n",
      "INFO:tensorflow:global_step/sec: 31.3886\n",
      "INFO:tensorflow:loss = 16.613676, step = 7801 (3.185 sec)\n",
      "INFO:tensorflow:global_step/sec: 42.7989\n",
      "INFO:tensorflow:loss = 10.812631, step = 7901 (2.337 sec)\n",
      "INFO:tensorflow:Saving checkpoints for 8001 into PNAD_1525049347/model.ckpt.\n",
      "INFO:tensorflow:global_step/sec: 31.6136\n",
      "INFO:tensorflow:loss = 14.338303, step = 8001 (3.164 sec)\n",
      "INFO:tensorflow:global_step/sec: 42.5531\n",
      "INFO:tensorflow:loss = 4.36529, step = 8101 (2.349 sec)\n",
      "INFO:tensorflow:global_step/sec: 42.5819\n",
      "INFO:tensorflow:loss = 24.534037, step = 8201 (2.349 sec)\n",
      "INFO:tensorflow:Saving checkpoints for 8251 into PNAD_1525049347/model.ckpt.\n",
      "INFO:tensorflow:global_step/sec: 27.6376\n",
      "INFO:tensorflow:loss = 9.599693, step = 8301 (3.618 sec)\n",
      "INFO:tensorflow:global_step/sec: 42.3884\n",
      "INFO:tensorflow:loss = 24.690578, step = 8401 (2.359 sec)\n",
      "INFO:tensorflow:Saving checkpoints for 8501 into PNAD_1525049347/model.ckpt.\n",
      "INFO:tensorflow:global_step/sec: 31.5465\n",
      "INFO:tensorflow:loss = 8.935514, step = 8501 (3.170 sec)\n",
      "INFO:tensorflow:global_step/sec: 42.5444\n",
      "INFO:tensorflow:loss = 59.92183, step = 8601 (2.350 sec)\n",
      "INFO:tensorflow:global_step/sec: 42.6731\n",
      "INFO:tensorflow:loss = 12.883049, step = 8701 (2.344 sec)\n",
      "INFO:tensorflow:Saving checkpoints for 8751 into PNAD_1525049347/model.ckpt.\n",
      "INFO:tensorflow:global_step/sec: 31.1395\n",
      "INFO:tensorflow:loss = 77.59953, step = 8801 (3.211 sec)\n",
      "INFO:tensorflow:global_step/sec: 42.6544\n",
      "INFO:tensorflow:loss = 10.969773, step = 8901 (2.344 sec)\n",
      "INFO:tensorflow:Saving checkpoints for 9001 into PNAD_1525049347/model.ckpt.\n",
      "INFO:tensorflow:global_step/sec: 30.2255\n",
      "INFO:tensorflow:loss = 72.254974, step = 9001 (3.310 sec)\n",
      "INFO:tensorflow:global_step/sec: 39.6959\n",
      "INFO:tensorflow:loss = 21.170036, step = 9101 (2.519 sec)\n",
      "INFO:tensorflow:global_step/sec: 42.5238\n",
      "INFO:tensorflow:loss = 12.261215, step = 9201 (2.351 sec)\n",
      "INFO:tensorflow:Saving checkpoints for 9251 into PNAD_1525049347/model.ckpt.\n",
      "INFO:tensorflow:global_step/sec: 31.3723\n",
      "INFO:tensorflow:loss = 18.416426, step = 9301 (3.187 sec)\n",
      "INFO:tensorflow:global_step/sec: 42.4257\n",
      "INFO:tensorflow:loss = 11.545461, step = 9401 (2.358 sec)\n",
      "INFO:tensorflow:Saving checkpoints for 9501 into PNAD_1525049347/model.ckpt.\n",
      "INFO:tensorflow:global_step/sec: 31.1787\n",
      "INFO:tensorflow:loss = 28.007183, step = 9501 (3.207 sec)\n",
      "INFO:tensorflow:global_step/sec: 42.6015\n",
      "INFO:tensorflow:loss = 11.779715, step = 9601 (2.347 sec)\n",
      "INFO:tensorflow:global_step/sec: 42.0448\n",
      "INFO:tensorflow:loss = 24.089684, step = 9701 (2.378 sec)\n",
      "INFO:tensorflow:Saving checkpoints for 9751 into PNAD_1525049347/model.ckpt.\n",
      "INFO:tensorflow:global_step/sec: 30.6238\n",
      "INFO:tensorflow:loss = 15.709415, step = 9801 (3.265 sec)\n",
      "INFO:tensorflow:global_step/sec: 41.916\n",
      "INFO:tensorflow:loss = 64.54386, step = 9901 (2.386 sec)\n",
      "INFO:tensorflow:Saving checkpoints for 10001 into PNAD_1525049347/model.ckpt.\n",
      "INFO:tensorflow:global_step/sec: 31.3209\n",
      "INFO:tensorflow:loss = 12.559496, step = 10001 (3.192 sec)\n",
      "INFO:tensorflow:global_step/sec: 42.3645\n",
      "INFO:tensorflow:loss = 62.343582, step = 10101 (2.361 sec)\n",
      "INFO:tensorflow:global_step/sec: 42.3961\n",
      "INFO:tensorflow:loss = 15.641153, step = 10201 (2.359 sec)\n",
      "INFO:tensorflow:Saving checkpoints for 10251 into PNAD_1525049347/model.ckpt.\n",
      "INFO:tensorflow:global_step/sec: 31.2433\n",
      "INFO:tensorflow:loss = 61.397377, step = 10301 (3.201 sec)\n",
      "INFO:tensorflow:global_step/sec: 42.3885\n",
      "INFO:tensorflow:loss = 13.828754, step = 10401 (2.359 sec)\n",
      "INFO:tensorflow:Saving checkpoints for 10501 into PNAD_1525049347/model.ckpt.\n",
      "INFO:tensorflow:global_step/sec: 31.0685\n",
      "INFO:tensorflow:loss = 8.638946, step = 10501 (3.219 sec)\n",
      "INFO:tensorflow:global_step/sec: 42.1219\n",
      "INFO:tensorflow:loss = 25.300516, step = 10601 (2.374 sec)\n",
      "INFO:tensorflow:global_step/sec: 41.6467\n",
      "INFO:tensorflow:loss = 8.901197, step = 10701 (2.401 sec)\n",
      "INFO:tensorflow:Saving checkpoints for 10751 into PNAD_1525049347/model.ckpt.\n",
      "INFO:tensorflow:global_step/sec: 31.1919\n",
      "INFO:tensorflow:loss = 33.423256, step = 10801 (3.209 sec)\n",
      "INFO:tensorflow:global_step/sec: 42.1781\n",
      "INFO:tensorflow:loss = 13.594756, step = 10901 (2.368 sec)\n",
      "INFO:tensorflow:Saving checkpoints for 11001 into PNAD_1525049347/model.ckpt.\n",
      "INFO:tensorflow:global_step/sec: 31.1355\n",
      "INFO:tensorflow:loss = 31.252785, step = 11001 (3.212 sec)\n",
      "INFO:tensorflow:global_step/sec: 42.1338\n",
      "INFO:tensorflow:loss = 17.02091, step = 11101 (2.373 sec)\n",
      "INFO:tensorflow:global_step/sec: 42.342\n",
      "INFO:tensorflow:loss = 45.166557, step = 11201 (2.362 sec)\n",
      "INFO:tensorflow:Saving checkpoints for 11251 into PNAD_1525049347/model.ckpt.\n",
      "INFO:tensorflow:global_step/sec: 31.3816\n",
      "INFO:tensorflow:loss = 11.715005, step = 11301 (3.187 sec)\n",
      "INFO:tensorflow:global_step/sec: 42.6956\n",
      "INFO:tensorflow:loss = 60.099686, step = 11401 (2.342 sec)\n",
      "INFO:tensorflow:Saving checkpoints for 11501 into PNAD_1525049347/model.ckpt.\n",
      "INFO:tensorflow:global_step/sec: 31.1799\n",
      "INFO:tensorflow:loss = 12.630363, step = 11501 (3.208 sec)\n",
      "INFO:tensorflow:global_step/sec: 42.1891\n",
      "INFO:tensorflow:loss = 65.56201, step = 11601 (2.369 sec)\n",
      "INFO:tensorflow:global_step/sec: 42.3992\n",
      "INFO:tensorflow:loss = 17.078808, step = 11701 (2.358 sec)\n",
      "INFO:tensorflow:Saving checkpoints for 11751 into PNAD_1525049347/model.ckpt.\n",
      "INFO:tensorflow:global_step/sec: 31.1451\n",
      "INFO:tensorflow:loss = 69.13134, step = 11801 (3.211 sec)\n",
      "INFO:tensorflow:global_step/sec: 42.5942\n",
      "INFO:tensorflow:loss = 17.387291, step = 11901 (2.348 sec)\n",
      "INFO:tensorflow:Saving checkpoints for 12001 into PNAD_1525049347/model.ckpt.\n",
      "INFO:tensorflow:global_step/sec: 31.1701\n",
      "INFO:tensorflow:loss = 7.9394507, step = 12001 (3.208 sec)\n",
      "INFO:tensorflow:global_step/sec: 42.8958\n",
      "INFO:tensorflow:loss = 23.631363, step = 12101 (2.331 sec)\n",
      "INFO:tensorflow:global_step/sec: 41.9351\n",
      "INFO:tensorflow:loss = 14.354397, step = 12201 (2.385 sec)\n",
      "INFO:tensorflow:Saving checkpoints for 12251 into PNAD_1525049347/model.ckpt.\n",
      "INFO:tensorflow:global_step/sec: 31.3754\n",
      "INFO:tensorflow:loss = 25.883385, step = 12301 (3.187 sec)\n",
      "INFO:tensorflow:global_step/sec: 42.2572\n",
      "INFO:tensorflow:loss = 9.197779, step = 12401 (2.367 sec)\n",
      "INFO:tensorflow:Saving checkpoints for 12501 into PNAD_1525049347/model.ckpt.\n",
      "INFO:tensorflow:global_step/sec: 31.0666\n",
      "INFO:tensorflow:loss = 29.997406, step = 12501 (3.221 sec)\n",
      "INFO:tensorflow:global_step/sec: 42.2868\n",
      "INFO:tensorflow:loss = 10.543379, step = 12601 (2.363 sec)\n"
     ]
    },
    {
     "name": "stdout",
     "output_type": "stream",
     "text": [
      "INFO:tensorflow:global_step/sec: 41.9732\n",
      "INFO:tensorflow:loss = 40.973026, step = 12701 (2.382 sec)\n",
      "INFO:tensorflow:Saving checkpoints for 12751 into PNAD_1525049347/model.ckpt.\n",
      "INFO:tensorflow:global_step/sec: 31.1481\n",
      "INFO:tensorflow:loss = 11.954038, step = 12801 (3.210 sec)\n",
      "INFO:tensorflow:global_step/sec: 42.4005\n",
      "INFO:tensorflow:loss = 60.698566, step = 12901 (2.359 sec)\n",
      "INFO:tensorflow:Saving checkpoints for 13001 into PNAD_1525049347/model.ckpt.\n",
      "INFO:tensorflow:global_step/sec: 31.5525\n",
      "INFO:tensorflow:loss = 15.391085, step = 13001 (3.169 sec)\n",
      "INFO:tensorflow:global_step/sec: 42.2138\n",
      "INFO:tensorflow:loss = 90.10318, step = 13101 (2.370 sec)\n",
      "INFO:tensorflow:global_step/sec: 42.2547\n",
      "INFO:tensorflow:loss = 17.994295, step = 13201 (2.368 sec)\n",
      "INFO:tensorflow:Saving checkpoints for 13251 into PNAD_1525049347/model.ckpt.\n",
      "INFO:tensorflow:global_step/sec: 31.1809\n",
      "INFO:tensorflow:loss = 20.78127, step = 13301 (3.205 sec)\n",
      "INFO:tensorflow:global_step/sec: 41.4653\n",
      "INFO:tensorflow:loss = 37.61145, step = 13401 (2.412 sec)\n",
      "INFO:tensorflow:Saving checkpoints for 13501 into PNAD_1525049347/model.ckpt.\n",
      "INFO:tensorflow:global_step/sec: 30.4647\n",
      "INFO:tensorflow:loss = 17.12273, step = 13501 (3.281 sec)\n",
      "INFO:tensorflow:global_step/sec: 41.3158\n",
      "INFO:tensorflow:loss = 21.75998, step = 13601 (2.421 sec)\n",
      "INFO:tensorflow:global_step/sec: 42.5677\n",
      "INFO:tensorflow:loss = 8.334602, step = 13701 (2.349 sec)\n",
      "INFO:tensorflow:Saving checkpoints for 13751 into PNAD_1525049347/model.ckpt.\n",
      "INFO:tensorflow:global_step/sec: 31.1321\n",
      "INFO:tensorflow:loss = 37.80414, step = 13801 (3.212 sec)\n",
      "INFO:tensorflow:global_step/sec: 42.1273\n",
      "INFO:tensorflow:loss = 13.810135, step = 13901 (2.374 sec)\n",
      "INFO:tensorflow:Saving checkpoints for 14001 into PNAD_1525049347/model.ckpt.\n",
      "INFO:tensorflow:global_step/sec: 31.2166\n",
      "INFO:tensorflow:loss = 46.201523, step = 14001 (3.204 sec)\n",
      "INFO:tensorflow:global_step/sec: 42.3511\n",
      "INFO:tensorflow:loss = 14.123955, step = 14101 (2.361 sec)\n",
      "INFO:tensorflow:global_step/sec: 42.4469\n",
      "INFO:tensorflow:loss = 63.22072, step = 14201 (2.355 sec)\n",
      "INFO:tensorflow:Saving checkpoints for 14251 into PNAD_1525049347/model.ckpt.\n",
      "INFO:tensorflow:global_step/sec: 30.0554\n",
      "INFO:tensorflow:loss = 14.440612, step = 14301 (3.328 sec)\n",
      "INFO:tensorflow:global_step/sec: 42.4272\n",
      "INFO:tensorflow:loss = 77.0854, step = 14401 (2.357 sec)\n",
      "INFO:tensorflow:Saving checkpoints for 14501 into PNAD_1525049347/model.ckpt.\n",
      "INFO:tensorflow:global_step/sec: 31.1798\n",
      "INFO:tensorflow:loss = 18.318771, step = 14501 (3.208 sec)\n",
      "INFO:tensorflow:global_step/sec: 42.5128\n",
      "INFO:tensorflow:loss = 45.76813, step = 14601 (2.352 sec)\n",
      "INFO:tensorflow:global_step/sec: 42.7699\n",
      "INFO:tensorflow:loss = 22.353642, step = 14701 (2.341 sec)\n",
      "INFO:tensorflow:Saving checkpoints for 14751 into PNAD_1525049347/model.ckpt.\n",
      "INFO:tensorflow:global_step/sec: 31.2742\n",
      "INFO:tensorflow:loss = 16.888206, step = 14801 (3.195 sec)\n",
      "INFO:tensorflow:global_step/sec: 42.0977\n",
      "INFO:tensorflow:loss = 23.313572, step = 14901 (2.375 sec)\n",
      "INFO:tensorflow:Saving checkpoints for 15001 into PNAD_1525049347/model.ckpt.\n",
      "INFO:tensorflow:global_step/sec: 31.4045\n",
      "INFO:tensorflow:loss = 12.451872, step = 15001 (3.185 sec)\n",
      "INFO:tensorflow:global_step/sec: 41.9965\n",
      "INFO:tensorflow:loss = 30.44183, step = 15101 (2.381 sec)\n",
      "INFO:tensorflow:global_step/sec: 42.5168\n",
      "INFO:tensorflow:loss = 12.728096, step = 15201 (2.354 sec)\n",
      "INFO:tensorflow:Saving checkpoints for 15251 into PNAD_1525049347/model.ckpt.\n",
      "INFO:tensorflow:global_step/sec: 31.2252\n",
      "INFO:tensorflow:loss = 25.62364, step = 15301 (3.200 sec)\n",
      "INFO:tensorflow:global_step/sec: 42.2044\n",
      "INFO:tensorflow:loss = 14.034261, step = 15401 (2.369 sec)\n",
      "INFO:tensorflow:Saving checkpoints for 15501 into PNAD_1525049347/model.ckpt.\n",
      "INFO:tensorflow:global_step/sec: 31.2099\n",
      "INFO:tensorflow:loss = 55.771263, step = 15501 (3.205 sec)\n",
      "INFO:tensorflow:global_step/sec: 42.6644\n",
      "INFO:tensorflow:loss = 17.645376, step = 15601 (2.343 sec)\n",
      "INFO:tensorflow:global_step/sec: 42.8332\n",
      "INFO:tensorflow:loss = 56.053497, step = 15701 (2.335 sec)\n",
      "INFO:tensorflow:Saving checkpoints for 15751 into PNAD_1525049347/model.ckpt.\n",
      "INFO:tensorflow:global_step/sec: 31.1666\n",
      "INFO:tensorflow:loss = 14.840648, step = 15801 (3.208 sec)\n",
      "INFO:tensorflow:global_step/sec: 42.5857\n",
      "INFO:tensorflow:loss = 70.93042, step = 15901 (2.348 sec)\n",
      "INFO:tensorflow:Saving checkpoints for 16001 into PNAD_1525049347/model.ckpt.\n",
      "INFO:tensorflow:global_step/sec: 31.4378\n",
      "INFO:tensorflow:loss = 20.289309, step = 16001 (3.182 sec)\n",
      "INFO:tensorflow:global_step/sec: 42.7542\n",
      "INFO:tensorflow:loss = 13.049823, step = 16101 (2.339 sec)\n",
      "INFO:tensorflow:global_step/sec: 42.5553\n",
      "INFO:tensorflow:loss = 25.551262, step = 16201 (2.349 sec)\n",
      "INFO:tensorflow:Saving checkpoints for 16251 into PNAD_1525049347/model.ckpt.\n",
      "INFO:tensorflow:global_step/sec: 31.2697\n",
      "INFO:tensorflow:loss = 13.309267, step = 16301 (3.198 sec)\n",
      "INFO:tensorflow:global_step/sec: 42.5675\n",
      "INFO:tensorflow:loss = 27.431799, step = 16401 (2.349 sec)\n",
      "INFO:tensorflow:Saving checkpoints for 16501 into PNAD_1525049347/model.ckpt.\n",
      "INFO:tensorflow:global_step/sec: 31.3563\n",
      "INFO:tensorflow:loss = 11.071, step = 16501 (3.189 sec)\n",
      "INFO:tensorflow:global_step/sec: 42.1878\n",
      "INFO:tensorflow:loss = 30.439377, step = 16601 (2.369 sec)\n",
      "INFO:tensorflow:global_step/sec: 42.1683\n",
      "INFO:tensorflow:loss = 11.218408, step = 16701 (2.371 sec)\n",
      "INFO:tensorflow:Saving checkpoints for 16751 into PNAD_1525049347/model.ckpt.\n",
      "INFO:tensorflow:global_step/sec: 31.189\n",
      "INFO:tensorflow:loss = 50.444187, step = 16801 (3.207 sec)\n",
      "INFO:tensorflow:global_step/sec: 42.567\n",
      "INFO:tensorflow:loss = 20.600277, step = 16901 (2.349 sec)\n",
      "INFO:tensorflow:Saving checkpoints for 17001 into PNAD_1525049347/model.ckpt.\n",
      "INFO:tensorflow:global_step/sec: 31.3155\n",
      "INFO:tensorflow:loss = 46.332916, step = 17001 (3.193 sec)\n",
      "INFO:tensorflow:global_step/sec: 42.6774\n",
      "INFO:tensorflow:loss = 12.863109, step = 17101 (2.344 sec)\n",
      "INFO:tensorflow:global_step/sec: 38.8412\n",
      "INFO:tensorflow:loss = 53.04225, step = 17201 (2.575 sec)\n",
      "INFO:tensorflow:Saving checkpoints for 17251 into PNAD_1525049347/model.ckpt.\n",
      "INFO:tensorflow:global_step/sec: 31.207\n",
      "INFO:tensorflow:loss = 16.871668, step = 17301 (3.204 sec)\n",
      "INFO:tensorflow:global_step/sec: 42.2921\n",
      "INFO:tensorflow:loss = 70.161194, step = 17401 (2.365 sec)\n",
      "INFO:tensorflow:Saving checkpoints for 17501 into PNAD_1525049347/model.ckpt.\n",
      "INFO:tensorflow:global_step/sec: 28.82\n",
      "INFO:tensorflow:loss = 23.592546, step = 17501 (3.470 sec)\n",
      "INFO:tensorflow:global_step/sec: 42.8294\n",
      "INFO:tensorflow:loss = 8.60152, step = 17601 (2.335 sec)\n",
      "INFO:tensorflow:global_step/sec: 42.7346\n",
      "INFO:tensorflow:loss = 31.978716, step = 17701 (2.340 sec)\n",
      "INFO:tensorflow:Saving checkpoints for 17751 into PNAD_1525049347/model.ckpt.\n",
      "INFO:tensorflow:global_step/sec: 30.8986\n",
      "INFO:tensorflow:loss = 15.002282, step = 17801 (3.236 sec)\n",
      "INFO:tensorflow:global_step/sec: 40.8544\n",
      "INFO:tensorflow:loss = 33.08172, step = 17901 (2.448 sec)\n",
      "INFO:tensorflow:Saving checkpoints for 18001 into PNAD_1525049347/model.ckpt.\n",
      "INFO:tensorflow:global_step/sec: 30.6381\n",
      "INFO:tensorflow:loss = 10.393137, step = 18001 (3.309 sec)\n",
      "INFO:tensorflow:global_step/sec: 41.8023\n",
      "INFO:tensorflow:loss = 29.523453, step = 18101 (2.347 sec)\n",
      "INFO:tensorflow:global_step/sec: 42.0571\n",
      "INFO:tensorflow:loss = 12.84285, step = 18201 (2.378 sec)\n",
      "INFO:tensorflow:Saving checkpoints for 18251 into PNAD_1525049347/model.ckpt.\n",
      "INFO:tensorflow:global_step/sec: 31.1808\n",
      "INFO:tensorflow:loss = 57.77025, step = 18301 (3.207 sec)\n",
      "INFO:tensorflow:global_step/sec: 42.0933\n",
      "INFO:tensorflow:loss = 16.61826, step = 18401 (2.376 sec)\n",
      "INFO:tensorflow:Saving checkpoints for 18501 into PNAD_1525049347/model.ckpt.\n",
      "INFO:tensorflow:global_step/sec: 31.645\n",
      "INFO:tensorflow:loss = 69.036835, step = 18501 (3.204 sec)\n",
      "INFO:tensorflow:global_step/sec: 41.6593\n",
      "INFO:tensorflow:loss = 16.003975, step = 18601 (2.357 sec)\n",
      "INFO:tensorflow:global_step/sec: 40.7139\n",
      "INFO:tensorflow:loss = 69.27006, step = 18701 (2.455 sec)\n",
      "INFO:tensorflow:Saving checkpoints for 18751 into PNAD_1525049347/model.ckpt.\n",
      "INFO:tensorflow:global_step/sec: 31.2049\n",
      "INFO:tensorflow:loss = 20.36121, step = 18801 (3.207 sec)\n",
      "INFO:tensorflow:global_step/sec: 40.552\n",
      "INFO:tensorflow:loss = 22.078209, step = 18901 (2.464 sec)\n"
     ]
    },
    {
     "name": "stdout",
     "output_type": "stream",
     "text": [
      "INFO:tensorflow:Saving checkpoints for 19001 into PNAD_1525049347/model.ckpt.\n",
      "INFO:tensorflow:global_step/sec: 28.318\n",
      "INFO:tensorflow:loss = 27.139332, step = 19001 (3.531 sec)\n",
      "INFO:tensorflow:global_step/sec: 34.7507\n",
      "INFO:tensorflow:loss = 13.157038, step = 19101 (2.877 sec)\n",
      "INFO:tensorflow:global_step/sec: 41.4843\n",
      "INFO:tensorflow:loss = 36.574837, step = 19201 (2.411 sec)\n",
      "INFO:tensorflow:Saving checkpoints for 19251 into PNAD_1525049347/model.ckpt.\n",
      "INFO:tensorflow:global_step/sec: 30.8399\n",
      "INFO:tensorflow:loss = 15.593042, step = 19301 (3.243 sec)\n",
      "INFO:tensorflow:global_step/sec: 34.927\n",
      "INFO:tensorflow:loss = 34.130768, step = 19401 (2.863 sec)\n",
      "INFO:tensorflow:Saving checkpoints for 19501 into PNAD_1525049347/model.ckpt.\n",
      "INFO:tensorflow:global_step/sec: 30.8575\n",
      "INFO:tensorflow:loss = 16.289778, step = 19501 (3.242 sec)\n",
      "INFO:tensorflow:global_step/sec: 42.2819\n",
      "INFO:tensorflow:loss = 34.911507, step = 19601 (2.364 sec)\n",
      "INFO:tensorflow:global_step/sec: 42.7112\n",
      "INFO:tensorflow:loss = 15.154125, step = 19701 (2.342 sec)\n",
      "INFO:tensorflow:Saving checkpoints for 19751 into PNAD_1525049347/model.ckpt.\n",
      "INFO:tensorflow:global_step/sec: 31.2816\n",
      "INFO:tensorflow:loss = 57.043922, step = 19801 (3.197 sec)\n",
      "INFO:tensorflow:global_step/sec: 42.6917\n",
      "INFO:tensorflow:loss = 14.642377, step = 19901 (2.343 sec)\n",
      "INFO:tensorflow:Saving checkpoints for 20001 into PNAD_1525049347/model.ckpt.\n",
      "INFO:tensorflow:global_step/sec: 31.4304\n",
      "INFO:tensorflow:loss = 80.90201, step = 20001 (3.182 sec)\n",
      "INFO:tensorflow:global_step/sec: 42.4226\n",
      "INFO:tensorflow:loss = 19.765602, step = 20101 (2.357 sec)\n",
      "INFO:tensorflow:global_step/sec: 42.3842\n",
      "INFO:tensorflow:loss = 58.72677, step = 20201 (2.359 sec)\n",
      "INFO:tensorflow:Saving checkpoints for 20251 into PNAD_1525049347/model.ckpt.\n",
      "INFO:tensorflow:global_step/sec: 31.2961\n",
      "INFO:tensorflow:loss = 31.943148, step = 20301 (3.195 sec)\n",
      "INFO:tensorflow:global_step/sec: 42.2377\n",
      "INFO:tensorflow:loss = 13.014665, step = 20401 (2.367 sec)\n",
      "INFO:tensorflow:Saving checkpoints for 20501 into PNAD_1525049347/model.ckpt.\n",
      "INFO:tensorflow:global_step/sec: 31.7552\n",
      "INFO:tensorflow:loss = 23.651634, step = 20501 (3.192 sec)\n",
      "INFO:tensorflow:global_step/sec: 41.7404\n",
      "INFO:tensorflow:loss = 13.268935, step = 20601 (2.353 sec)\n",
      "INFO:tensorflow:global_step/sec: 42.3149\n",
      "INFO:tensorflow:loss = 32.853943, step = 20701 (2.363 sec)\n",
      "INFO:tensorflow:Saving checkpoints for 20751 into PNAD_1525049347/model.ckpt.\n",
      "INFO:tensorflow:global_step/sec: 31.3158\n",
      "INFO:tensorflow:loss = 14.078295, step = 20801 (3.196 sec)\n",
      "INFO:tensorflow:global_step/sec: 42.2765\n",
      "INFO:tensorflow:loss = 30.82185, step = 20901 (2.363 sec)\n",
      "INFO:tensorflow:Saving checkpoints for 21001 into PNAD_1525049347/model.ckpt.\n",
      "INFO:tensorflow:global_step/sec: 31.5794\n",
      "INFO:tensorflow:loss = 17.188387, step = 21001 (3.210 sec)\n",
      "INFO:tensorflow:global_step/sec: 41.4154\n",
      "INFO:tensorflow:loss = 56.44964, step = 21101 (2.371 sec)\n",
      "INFO:tensorflow:global_step/sec: 42.7876\n",
      "INFO:tensorflow:loss = 27.098412, step = 21201 (2.338 sec)\n",
      "INFO:tensorflow:Saving checkpoints for 21251 into PNAD_1525049347/model.ckpt.\n",
      "INFO:tensorflow:global_step/sec: 31.3699\n",
      "INFO:tensorflow:loss = 58.309914, step = 21301 (3.187 sec)\n",
      "INFO:tensorflow:global_step/sec: 42.3964\n",
      "INFO:tensorflow:loss = 20.629787, step = 21401 (2.359 sec)\n",
      "INFO:tensorflow:Saving checkpoints for 21501 into PNAD_1525049347/model.ckpt.\n",
      "INFO:tensorflow:global_step/sec: 31.3197\n",
      "INFO:tensorflow:loss = 69.09558, step = 21501 (3.193 sec)\n",
      "INFO:tensorflow:global_step/sec: 41.939\n",
      "INFO:tensorflow:loss = 18.368595, step = 21601 (2.384 sec)\n",
      "INFO:tensorflow:global_step/sec: 41.8879\n",
      "INFO:tensorflow:loss = 15.433132, step = 21701 (2.387 sec)\n",
      "INFO:tensorflow:Saving checkpoints for 21751 into PNAD_1525049347/model.ckpt.\n",
      "INFO:tensorflow:global_step/sec: 31.2121\n",
      "INFO:tensorflow:loss = 26.16106, step = 21801 (3.204 sec)\n",
      "INFO:tensorflow:global_step/sec: 41.7838\n",
      "INFO:tensorflow:loss = 14.252153, step = 21901 (2.393 sec)\n",
      "INFO:tensorflow:Saving checkpoints for 22001 into PNAD_1525049347/model.ckpt.\n",
      "INFO:tensorflow:global_step/sec: 30.9388\n",
      "INFO:tensorflow:loss = 33.797432, step = 22001 (3.232 sec)\n",
      "INFO:tensorflow:global_step/sec: 42.4441\n",
      "INFO:tensorflow:loss = 20.046476, step = 22101 (2.356 sec)\n",
      "INFO:tensorflow:global_step/sec: 42.118\n",
      "INFO:tensorflow:loss = 34.964508, step = 22201 (2.374 sec)\n",
      "INFO:tensorflow:Saving checkpoints for 22251 into PNAD_1525049347/model.ckpt.\n",
      "INFO:tensorflow:global_step/sec: 30.2938\n",
      "INFO:tensorflow:loss = 18.812931, step = 22301 (3.303 sec)\n",
      "INFO:tensorflow:global_step/sec: 40.6344\n",
      "INFO:tensorflow:loss = 45.144386, step = 22401 (2.459 sec)\n",
      "INFO:tensorflow:Saving checkpoints for 22501 into PNAD_1525049347/model.ckpt.\n",
      "INFO:tensorflow:global_step/sec: 31.5328\n",
      "INFO:tensorflow:loss = 14.132948, step = 22501 (3.213 sec)\n",
      "INFO:tensorflow:global_step/sec: 41.7093\n",
      "INFO:tensorflow:loss = 43.10225, step = 22601 (2.356 sec)\n",
      "INFO:tensorflow:global_step/sec: 42.7915\n",
      "INFO:tensorflow:loss = 14.117465, step = 22701 (2.337 sec)\n",
      "INFO:tensorflow:Saving checkpoints for 22751 into PNAD_1525049347/model.ckpt.\n",
      "INFO:tensorflow:global_step/sec: 30.932\n",
      "INFO:tensorflow:loss = 60.29544, step = 22801 (3.233 sec)\n",
      "INFO:tensorflow:global_step/sec: 41.9298\n",
      "INFO:tensorflow:loss = 22.40919, step = 22901 (2.385 sec)\n",
      "INFO:tensorflow:Saving checkpoints for 23001 into PNAD_1525049347/model.ckpt.\n",
      "INFO:tensorflow:global_step/sec: 31.3442\n",
      "INFO:tensorflow:loss = 41.351913, step = 23001 (3.234 sec)\n",
      "INFO:tensorflow:global_step/sec: 40.1889\n",
      "INFO:tensorflow:loss = 26.840448, step = 23101 (2.445 sec)\n",
      "INFO:tensorflow:global_step/sec: 42.1127\n",
      "INFO:tensorflow:loss = 14.926303, step = 23201 (2.375 sec)\n",
      "INFO:tensorflow:Saving checkpoints for 23251 into PNAD_1525049347/model.ckpt.\n",
      "INFO:tensorflow:global_step/sec: 31.1775\n",
      "INFO:tensorflow:loss = 37.585724, step = 23301 (3.208 sec)\n",
      "INFO:tensorflow:global_step/sec: 42.4623\n",
      "INFO:tensorflow:loss = 16.445469, step = 23401 (2.355 sec)\n",
      "INFO:tensorflow:Saving checkpoints for 23501 into PNAD_1525049347/model.ckpt.\n",
      "INFO:tensorflow:global_step/sec: 31.2438\n",
      "INFO:tensorflow:loss = 36.28277, step = 23501 (3.242 sec)\n",
      "INFO:tensorflow:global_step/sec: 41.4893\n",
      "INFO:tensorflow:loss = 12.953081, step = 23601 (2.369 sec)\n",
      "INFO:tensorflow:global_step/sec: 42.2778\n",
      "INFO:tensorflow:loss = 32.78015, step = 23701 (2.366 sec)\n",
      "INFO:tensorflow:Saving checkpoints for 23751 into PNAD_1525049347/model.ckpt.\n",
      "INFO:tensorflow:global_step/sec: 30.802\n",
      "INFO:tensorflow:loss = 17.500038, step = 23801 (3.247 sec)\n",
      "INFO:tensorflow:global_step/sec: 41.8735\n",
      "INFO:tensorflow:loss = 40.120132, step = 23901 (2.388 sec)\n",
      "INFO:tensorflow:Saving checkpoints for 24001 into PNAD_1525049347/model.ckpt.\n",
      "INFO:tensorflow:global_step/sec: 31.3837\n",
      "INFO:tensorflow:loss = 16.080162, step = 24001 (3.228 sec)\n",
      "INFO:tensorflow:global_step/sec: 41.3647\n",
      "INFO:tensorflow:loss = 79.70881, step = 24101 (2.375 sec)\n",
      "INFO:tensorflow:global_step/sec: 41.8463\n",
      "INFO:tensorflow:loss = 23.95307, step = 24201 (2.390 sec)\n",
      "INFO:tensorflow:Saving checkpoints for 24251 into PNAD_1525049347/model.ckpt.\n",
      "INFO:tensorflow:global_step/sec: 31.1112\n",
      "INFO:tensorflow:loss = 74.30931, step = 24301 (3.214 sec)\n",
      "INFO:tensorflow:global_step/sec: 41.9298\n",
      "INFO:tensorflow:loss = 21.623295, step = 24401 (2.385 sec)\n",
      "INFO:tensorflow:Saving checkpoints for 24501 into PNAD_1525049347/model.ckpt.\n",
      "INFO:tensorflow:global_step/sec: 31.4736\n",
      "INFO:tensorflow:loss = 31.719126, step = 24501 (3.221 sec)\n",
      "INFO:tensorflow:global_step/sec: 41.3609\n",
      "INFO:tensorflow:loss = 27.750187, step = 24601 (2.375 sec)\n",
      "INFO:tensorflow:global_step/sec: 42.4213\n",
      "INFO:tensorflow:loss = 11.942793, step = 24701 (2.357 sec)\n",
      "INFO:tensorflow:Saving checkpoints for 24751 into PNAD_1525049347/model.ckpt.\n",
      "INFO:tensorflow:global_step/sec: 30.9725\n",
      "INFO:tensorflow:loss = 34.808674, step = 24801 (3.228 sec)\n",
      "INFO:tensorflow:global_step/sec: 42.3386\n",
      "INFO:tensorflow:loss = 17.338087, step = 24901 (2.362 sec)\n",
      "INFO:tensorflow:Saving checkpoints for 25001 into PNAD_1525049347/model.ckpt.\n",
      "INFO:tensorflow:global_step/sec: 31.529\n",
      "INFO:tensorflow:loss = 36.93306, step = 25001 (3.215 sec)\n",
      "INFO:tensorflow:global_step/sec: 41.5882\n",
      "INFO:tensorflow:loss = 19.075394, step = 25101 (2.361 sec)\n",
      "INFO:tensorflow:global_step/sec: 42.0729\n",
      "INFO:tensorflow:loss = 48.328484, step = 25201 (2.377 sec)\n"
     ]
    },
    {
     "name": "stdout",
     "output_type": "stream",
     "text": [
      "INFO:tensorflow:Saving checkpoints for 25251 into PNAD_1525049347/model.ckpt.\n",
      "INFO:tensorflow:global_step/sec: 31.03\n",
      "INFO:tensorflow:loss = 13.929147, step = 25301 (3.223 sec)\n",
      "INFO:tensorflow:global_step/sec: 42.3205\n",
      "INFO:tensorflow:loss = 40.6097, step = 25401 (2.363 sec)\n",
      "INFO:tensorflow:Saving checkpoints for 25501 into PNAD_1525049347/model.ckpt.\n",
      "INFO:tensorflow:global_step/sec: 31.073\n",
      "INFO:tensorflow:loss = 19.060532, step = 25501 (3.218 sec)\n",
      "INFO:tensorflow:global_step/sec: 42.1721\n",
      "INFO:tensorflow:loss = 67.00563, step = 25601 (2.372 sec)\n",
      "INFO:tensorflow:global_step/sec: 42.3952\n",
      "INFO:tensorflow:loss = 20.728222, step = 25701 (2.358 sec)\n",
      "INFO:tensorflow:Saving checkpoints for 25751 into PNAD_1525049347/model.ckpt.\n",
      "INFO:tensorflow:global_step/sec: 31.3267\n",
      "INFO:tensorflow:loss = 46.292435, step = 25801 (3.192 sec)\n",
      "INFO:tensorflow:global_step/sec: 42.3214\n",
      "INFO:tensorflow:loss = 28.557854, step = 25901 (2.363 sec)\n",
      "INFO:tensorflow:Saving checkpoints for 26001 into PNAD_1525049347/model.ckpt.\n",
      "INFO:tensorflow:global_step/sec: 29.3831\n",
      "INFO:tensorflow:loss = 11.637947, step = 26001 (3.404 sec)\n",
      "INFO:tensorflow:global_step/sec: 41.8218\n",
      "INFO:tensorflow:loss = 27.148716, step = 26101 (2.391 sec)\n",
      "INFO:tensorflow:global_step/sec: 42.3789\n",
      "INFO:tensorflow:loss = 18.385933, step = 26201 (2.360 sec)\n",
      "INFO:tensorflow:Saving checkpoints for 26251 into PNAD_1525049347/model.ckpt.\n",
      "INFO:tensorflow:global_step/sec: 31.3483\n",
      "INFO:tensorflow:loss = 30.271523, step = 26301 (3.190 sec)\n",
      "INFO:tensorflow:global_step/sec: 42.4741\n",
      "INFO:tensorflow:loss = 14.622124, step = 26401 (2.354 sec)\n",
      "INFO:tensorflow:Saving checkpoints for 26501 into PNAD_1525049347/model.ckpt.\n",
      "INFO:tensorflow:global_step/sec: 28.9354\n",
      "INFO:tensorflow:loss = 19.473446, step = 26501 (3.501 sec)\n",
      "INFO:tensorflow:global_step/sec: 40.9361\n",
      "INFO:tensorflow:loss = 15.38422, step = 26601 (2.398 sec)\n",
      "INFO:tensorflow:global_step/sec: 40.1751\n",
      "INFO:tensorflow:loss = 47.383347, step = 26701 (2.489 sec)\n",
      "INFO:tensorflow:Saving checkpoints for 26751 into PNAD_1525049347/model.ckpt.\n",
      "INFO:tensorflow:global_step/sec: 30.2175\n",
      "INFO:tensorflow:loss = 14.428615, step = 26801 (3.309 sec)\n",
      "INFO:tensorflow:global_step/sec: 42.066\n",
      "INFO:tensorflow:loss = 55.089226, step = 26901 (2.377 sec)\n",
      "INFO:tensorflow:Saving checkpoints for 27001 into PNAD_1525049347/model.ckpt.\n",
      "INFO:tensorflow:global_step/sec: 31.1162\n",
      "INFO:tensorflow:loss = 23.499231, step = 27001 (3.213 sec)\n",
      "INFO:tensorflow:global_step/sec: 42.1581\n",
      "INFO:tensorflow:loss = 60.727047, step = 27101 (2.373 sec)\n",
      "INFO:tensorflow:global_step/sec: 42.7302\n",
      "INFO:tensorflow:loss = 34.20231, step = 27201 (2.340 sec)\n",
      "INFO:tensorflow:Saving checkpoints for 27251 into PNAD_1525049347/model.ckpt.\n",
      "INFO:tensorflow:global_step/sec: 31.3048\n",
      "INFO:tensorflow:loss = 18.802242, step = 27301 (3.194 sec)\n",
      "INFO:tensorflow:global_step/sec: 42.6977\n",
      "INFO:tensorflow:loss = 23.528084, step = 27401 (2.342 sec)\n",
      "INFO:tensorflow:Saving checkpoints for 27501 into PNAD_1525049347/model.ckpt.\n",
      "INFO:tensorflow:global_step/sec: 30.4992\n",
      "INFO:tensorflow:loss = 18.140644, step = 27501 (3.320 sec)\n",
      "INFO:tensorflow:global_step/sec: 41.6601\n",
      "INFO:tensorflow:loss = 44.01445, step = 27601 (2.360 sec)\n",
      "INFO:tensorflow:global_step/sec: 42.2857\n",
      "INFO:tensorflow:loss = 19.353828, step = 27701 (2.365 sec)\n",
      "INFO:tensorflow:Saving checkpoints for 27751 into PNAD_1525049347/model.ckpt.\n",
      "INFO:tensorflow:global_step/sec: 31.0858\n",
      "INFO:tensorflow:loss = 31.369219, step = 27801 (3.216 sec)\n",
      "INFO:tensorflow:global_step/sec: 42.2021\n",
      "INFO:tensorflow:loss = 17.816673, step = 27901 (2.371 sec)\n",
      "INFO:tensorflow:Saving checkpoints for 28001 into PNAD_1525049347/model.ckpt.\n",
      "INFO:tensorflow:global_step/sec: 31.5315\n",
      "INFO:tensorflow:loss = 44.06965, step = 28001 (3.212 sec)\n",
      "INFO:tensorflow:global_step/sec: 41.9152\n",
      "INFO:tensorflow:loss = 24.903364, step = 28101 (2.344 sec)\n",
      "INFO:tensorflow:global_step/sec: 41.9188\n",
      "INFO:tensorflow:loss = 50.284885, step = 28201 (2.385 sec)\n",
      "INFO:tensorflow:Saving checkpoints for 28251 into PNAD_1525049347/model.ckpt.\n",
      "INFO:tensorflow:global_step/sec: 30.9262\n",
      "INFO:tensorflow:loss = 17.631924, step = 28301 (3.234 sec)\n",
      "INFO:tensorflow:global_step/sec: 42.1991\n",
      "INFO:tensorflow:loss = 60.42097, step = 28401 (2.370 sec)\n",
      "INFO:tensorflow:Saving checkpoints for 28501 into PNAD_1525049347/model.ckpt.\n",
      "INFO:tensorflow:global_step/sec: 31.5405\n",
      "INFO:tensorflow:loss = 23.727125, step = 28501 (3.213 sec)\n",
      "INFO:tensorflow:global_step/sec: 41.8039\n",
      "INFO:tensorflow:loss = 60.861137, step = 28601 (2.349 sec)\n",
      "INFO:tensorflow:global_step/sec: 42.7432\n",
      "INFO:tensorflow:loss = 21.023016, step = 28701 (2.340 sec)\n",
      "INFO:tensorflow:Saving checkpoints for 28751 into PNAD_1525049347/model.ckpt.\n",
      "INFO:tensorflow:global_step/sec: 30.8816\n",
      "INFO:tensorflow:loss = 10.803076, step = 28801 (3.238 sec)\n",
      "INFO:tensorflow:global_step/sec: 42.3471\n",
      "INFO:tensorflow:loss = 31.132683, step = 28901 (2.361 sec)\n",
      "INFO:tensorflow:Saving checkpoints for 29001 into PNAD_1525049347/model.ckpt.\n",
      "INFO:tensorflow:global_step/sec: 31.7907\n",
      "INFO:tensorflow:loss = 14.127725, step = 29001 (3.188 sec)\n",
      "INFO:tensorflow:global_step/sec: 41.7354\n",
      "INFO:tensorflow:loss = 36.946648, step = 29101 (2.354 sec)\n",
      "INFO:tensorflow:global_step/sec: 42.2613\n",
      "INFO:tensorflow:loss = 14.9096365, step = 29201 (2.367 sec)\n",
      "INFO:tensorflow:Saving checkpoints for 29251 into PNAD_1525049347/model.ckpt.\n",
      "INFO:tensorflow:global_step/sec: 31.1645\n",
      "INFO:tensorflow:loss = 36.114227, step = 29301 (3.208 sec)\n",
      "INFO:tensorflow:global_step/sec: 42.5158\n",
      "INFO:tensorflow:loss = 19.729845, step = 29401 (2.352 sec)\n",
      "INFO:tensorflow:Saving checkpoints for 29501 into PNAD_1525049347/model.ckpt.\n",
      "INFO:tensorflow:global_step/sec: 31.633\n",
      "INFO:tensorflow:loss = 38.559906, step = 29501 (3.206 sec)\n",
      "INFO:tensorflow:global_step/sec: 41.8729\n",
      "INFO:tensorflow:loss = 15.741871, step = 29601 (2.343 sec)\n",
      "INFO:tensorflow:global_step/sec: 42.2558\n",
      "INFO:tensorflow:loss = 51.55078, step = 29701 (2.366 sec)\n",
      "INFO:tensorflow:Saving checkpoints for 29751 into PNAD_1525049347/model.ckpt.\n",
      "INFO:tensorflow:global_step/sec: 31.0158\n",
      "INFO:tensorflow:loss = 15.689381, step = 29801 (3.225 sec)\n",
      "INFO:tensorflow:global_step/sec: 42.4858\n",
      "INFO:tensorflow:loss = 70.972275, step = 29901 (2.354 sec)\n",
      "INFO:tensorflow:Saving checkpoints for 30001 into PNAD_1525049347/model.ckpt.\n",
      "INFO:tensorflow:global_step/sec: 31.4261\n",
      "INFO:tensorflow:loss = 26.295496, step = 30001 (3.182 sec)\n",
      "INFO:tensorflow:global_step/sec: 42.1894\n",
      "INFO:tensorflow:loss = 29.09884, step = 30101 (2.370 sec)\n",
      "INFO:tensorflow:global_step/sec: 42.441\n",
      "INFO:tensorflow:loss = 37.2097, step = 30201 (2.356 sec)\n",
      "INFO:tensorflow:Saving checkpoints for 30251 into PNAD_1525049347/model.ckpt.\n",
      "INFO:tensorflow:global_step/sec: 31.0472\n",
      "INFO:tensorflow:loss = 19.926939, step = 30301 (3.221 sec)\n",
      "INFO:tensorflow:global_step/sec: 42.5251\n",
      "INFO:tensorflow:loss = 30.631378, step = 30401 (2.351 sec)\n",
      "INFO:tensorflow:Saving checkpoints for 30501 into PNAD_1525049347/model.ckpt.\n",
      "INFO:tensorflow:global_step/sec: 31.0975\n",
      "INFO:tensorflow:loss = 16.031515, step = 30501 (3.259 sec)\n",
      "INFO:tensorflow:global_step/sec: 41.3543\n",
      "INFO:tensorflow:loss = 45.250412, step = 30601 (2.375 sec)\n",
      "INFO:tensorflow:global_step/sec: 42.1101\n",
      "INFO:tensorflow:loss = 20.818121, step = 30701 (2.375 sec)\n",
      "INFO:tensorflow:Saving checkpoints for 30751 into PNAD_1525049347/model.ckpt.\n",
      "INFO:tensorflow:global_step/sec: 31.0052\n",
      "INFO:tensorflow:loss = 38.01484, step = 30801 (3.225 sec)\n",
      "INFO:tensorflow:global_step/sec: 42.2982\n",
      "INFO:tensorflow:loss = 17.132427, step = 30901 (2.364 sec)\n",
      "INFO:tensorflow:Saving checkpoints for 31001 into PNAD_1525049347/model.ckpt.\n",
      "INFO:tensorflow:global_step/sec: 31.38\n",
      "INFO:tensorflow:loss = 47.554123, step = 31001 (3.229 sec)\n",
      "INFO:tensorflow:global_step/sec: 39.8381\n",
      "INFO:tensorflow:loss = 24.75953, step = 31101 (2.469 sec)\n",
      "INFO:tensorflow:global_step/sec: 39.9301\n",
      "INFO:tensorflow:loss = 67.47437, step = 31201 (2.503 sec)\n",
      "INFO:tensorflow:Saving checkpoints for 31251 into PNAD_1525049347/model.ckpt.\n",
      "INFO:tensorflow:global_step/sec: 31.2472\n",
      "INFO:tensorflow:loss = 20.85636, step = 31301 (3.201 sec)\n",
      "INFO:tensorflow:global_step/sec: 42.2018\n",
      "INFO:tensorflow:loss = 40.2192, step = 31401 (2.369 sec)\n",
      "INFO:tensorflow:Saving checkpoints for 31501 into PNAD_1525049347/model.ckpt.\n"
     ]
    },
    {
     "name": "stdout",
     "output_type": "stream",
     "text": [
      "INFO:tensorflow:global_step/sec: 31.505\n",
      "INFO:tensorflow:loss = 30.472158, step = 31501 (3.216 sec)\n",
      "INFO:tensorflow:global_step/sec: 41.2555\n",
      "INFO:tensorflow:loss = 14.84435, step = 31601 (2.382 sec)\n",
      "INFO:tensorflow:global_step/sec: 42.5836\n",
      "INFO:tensorflow:loss = 23.197393, step = 31701 (2.348 sec)\n",
      "INFO:tensorflow:Saving checkpoints for 31751 into PNAD_1525049347/model.ckpt.\n",
      "INFO:tensorflow:global_step/sec: 31.3366\n",
      "INFO:tensorflow:loss = 18.819618, step = 31801 (3.191 sec)\n",
      "INFO:tensorflow:global_step/sec: 40.8605\n",
      "INFO:tensorflow:loss = 36.49076, step = 31901 (2.448 sec)\n",
      "INFO:tensorflow:Saving checkpoints for 32001 into PNAD_1525049347/model.ckpt.\n",
      "INFO:tensorflow:global_step/sec: 31.2351\n",
      "INFO:tensorflow:loss = 18.740305, step = 32001 (3.245 sec)\n",
      "INFO:tensorflow:global_step/sec: 41.8857\n",
      "INFO:tensorflow:loss = 23.72232, step = 32101 (2.345 sec)\n",
      "INFO:tensorflow:global_step/sec: 42.1962\n",
      "INFO:tensorflow:loss = 17.456833, step = 32201 (2.369 sec)\n",
      "INFO:tensorflow:Saving checkpoints for 32251 into PNAD_1525049347/model.ckpt.\n",
      "INFO:tensorflow:global_step/sec: 31.1717\n",
      "INFO:tensorflow:loss = 51.510406, step = 32301 (3.208 sec)\n",
      "INFO:tensorflow:global_step/sec: 42.3712\n",
      "INFO:tensorflow:loss = 22.038868, step = 32401 (2.360 sec)\n",
      "INFO:tensorflow:Saving checkpoints for 32501 into PNAD_1525049347/model.ckpt.\n",
      "INFO:tensorflow:global_step/sec: 31.6278\n",
      "INFO:tensorflow:loss = 39.209064, step = 32501 (3.208 sec)\n",
      "INFO:tensorflow:global_step/sec: 41.2932\n",
      "INFO:tensorflow:loss = 16.202166, step = 32601 (2.376 sec)\n",
      "INFO:tensorflow:global_step/sec: 41.8981\n",
      "INFO:tensorflow:loss = 68.00452, step = 32701 (2.387 sec)\n",
      "INFO:tensorflow:Saving checkpoints for 32751 into PNAD_1525049347/model.ckpt.\n",
      "INFO:tensorflow:global_step/sec: 31.0472\n",
      "INFO:tensorflow:loss = 23.68574, step = 32801 (3.221 sec)\n",
      "INFO:tensorflow:global_step/sec: 42.5455\n",
      "INFO:tensorflow:loss = 12.697853, step = 32901 (2.350 sec)\n",
      "INFO:tensorflow:Saving checkpoints for 33001 into PNAD_1525049347/model.ckpt.\n",
      "INFO:tensorflow:global_step/sec: 31.6556\n",
      "INFO:tensorflow:loss = 26.532696, step = 33001 (3.203 sec)\n",
      "INFO:tensorflow:global_step/sec: 41.2573\n",
      "INFO:tensorflow:loss = 20.214657, step = 33101 (2.380 sec)\n",
      "INFO:tensorflow:global_step/sec: 42.0283\n",
      "INFO:tensorflow:loss = 41.947495, step = 33201 (2.379 sec)\n",
      "INFO:tensorflow:Saving checkpoints for 33251 into PNAD_1525049347/model.ckpt.\n",
      "INFO:tensorflow:global_step/sec: 31.4379\n",
      "INFO:tensorflow:loss = 21.097313, step = 33301 (3.181 sec)\n",
      "INFO:tensorflow:global_step/sec: 42.4712\n",
      "INFO:tensorflow:loss = 26.453281, step = 33401 (2.354 sec)\n",
      "INFO:tensorflow:Saving checkpoints for 33501 into PNAD_1525049347/model.ckpt.\n",
      "INFO:tensorflow:global_step/sec: 31.711\n",
      "INFO:tensorflow:loss = 20.502537, step = 33501 (3.197 sec)\n",
      "INFO:tensorflow:global_step/sec: 41.4775\n",
      "INFO:tensorflow:loss = 43.53097, step = 33601 (2.368 sec)\n",
      "INFO:tensorflow:global_step/sec: 42.6255\n",
      "INFO:tensorflow:loss = 27.041237, step = 33701 (2.346 sec)\n",
      "INFO:tensorflow:Saving checkpoints for 33751 into PNAD_1525049347/model.ckpt.\n",
      "INFO:tensorflow:global_step/sec: 31.5363\n",
      "INFO:tensorflow:loss = 43.402443, step = 33801 (3.170 sec)\n",
      "INFO:tensorflow:global_step/sec: 42.7171\n",
      "INFO:tensorflow:loss = 20.460676, step = 33901 (2.341 sec)\n",
      "INFO:tensorflow:Saving checkpoints for 34001 into PNAD_1525049347/model.ckpt.\n",
      "INFO:tensorflow:global_step/sec: 31.8812\n",
      "INFO:tensorflow:loss = 58.089867, step = 34001 (3.178 sec)\n",
      "INFO:tensorflow:global_step/sec: 41.8417\n",
      "INFO:tensorflow:loss = 18.161842, step = 34101 (2.349 sec)\n",
      "INFO:tensorflow:global_step/sec: 42.4401\n",
      "INFO:tensorflow:loss = 56.025238, step = 34201 (2.356 sec)\n",
      "INFO:tensorflow:Saving checkpoints for 34251 into PNAD_1525049347/model.ckpt.\n",
      "INFO:tensorflow:global_step/sec: 31.3066\n",
      "INFO:tensorflow:loss = 27.184868, step = 34301 (3.194 sec)\n",
      "INFO:tensorflow:global_step/sec: 42.5552\n",
      "INFO:tensorflow:loss = 11.84827, step = 34401 (2.350 sec)\n",
      "INFO:tensorflow:Saving checkpoints for 34501 into PNAD_1525049347/model.ckpt.\n",
      "INFO:tensorflow:global_step/sec: 31.5627\n",
      "INFO:tensorflow:loss = 37.982025, step = 34501 (3.213 sec)\n",
      "INFO:tensorflow:global_step/sec: 41.518\n",
      "INFO:tensorflow:loss = 14.803169, step = 34601 (2.363 sec)\n",
      "INFO:tensorflow:global_step/sec: 42.134\n",
      "INFO:tensorflow:loss = 34.25937, step = 34701 (2.373 sec)\n",
      "INFO:tensorflow:Saving checkpoints for 34751 into PNAD_1525049347/model.ckpt.\n",
      "INFO:tensorflow:global_step/sec: 29.5741\n",
      "INFO:tensorflow:loss = 20.877794, step = 34801 (3.382 sec)\n",
      "INFO:tensorflow:global_step/sec: 41.4567\n",
      "INFO:tensorflow:loss = 39.41001, step = 34901 (2.412 sec)\n",
      "INFO:tensorflow:Saving checkpoints for 35001 into PNAD_1525049347/model.ckpt.\n",
      "INFO:tensorflow:global_step/sec: 31.4236\n",
      "INFO:tensorflow:loss = 15.173226, step = 35001 (3.225 sec)\n",
      "INFO:tensorflow:global_step/sec: 41.4683\n",
      "INFO:tensorflow:loss = 38.0136, step = 35101 (2.368 sec)\n",
      "INFO:tensorflow:global_step/sec: 42.4435\n",
      "INFO:tensorflow:loss = 15.607856, step = 35201 (2.356 sec)\n",
      "INFO:tensorflow:Saving checkpoints for 35251 into PNAD_1525049347/model.ckpt.\n",
      "INFO:tensorflow:global_step/sec: 31.1628\n",
      "INFO:tensorflow:loss = 42.128204, step = 35301 (3.209 sec)\n",
      "INFO:tensorflow:global_step/sec: 42.5046\n",
      "INFO:tensorflow:loss = 19.62119, step = 35401 (2.353 sec)\n",
      "INFO:tensorflow:Saving checkpoints for 35501 into PNAD_1525049347/model.ckpt.\n",
      "INFO:tensorflow:global_step/sec: 30.7374\n",
      "INFO:tensorflow:loss = 60.831036, step = 35501 (3.295 sec)\n",
      "INFO:tensorflow:global_step/sec: 38.993\n",
      "INFO:tensorflow:loss = 30.128159, step = 35601 (2.522 sec)\n",
      "INFO:tensorflow:global_step/sec: 42.2749\n",
      "INFO:tensorflow:loss = 21.67566, step = 35701 (2.367 sec)\n",
      "INFO:tensorflow:Saving checkpoints for 35751 into PNAD_1525049347/model.ckpt.\n",
      "INFO:tensorflow:global_step/sec: 28.9402\n",
      "INFO:tensorflow:loss = 29.620365, step = 35801 (3.454 sec)\n",
      "INFO:tensorflow:global_step/sec: 42.2303\n",
      "INFO:tensorflow:loss = 16.44701, step = 35901 (2.368 sec)\n",
      "INFO:tensorflow:Saving checkpoints for 36001 into PNAD_1525049347/model.ckpt.\n",
      "INFO:tensorflow:global_step/sec: 31.5299\n",
      "INFO:tensorflow:loss = 37.70311, step = 36001 (3.213 sec)\n",
      "INFO:tensorflow:global_step/sec: 41.7156\n",
      "INFO:tensorflow:loss = 24.682932, step = 36101 (2.357 sec)\n",
      "INFO:tensorflow:global_step/sec: 41.7183\n",
      "INFO:tensorflow:loss = 41.93689, step = 36201 (2.397 sec)\n",
      "INFO:tensorflow:Saving checkpoints for 36251 into PNAD_1525049347/model.ckpt.\n",
      "INFO:tensorflow:global_step/sec: 29.8505\n",
      "INFO:tensorflow:loss = 31.027359, step = 36301 (3.350 sec)\n",
      "INFO:tensorflow:global_step/sec: 41.6103\n",
      "INFO:tensorflow:loss = 48.947678, step = 36401 (2.404 sec)\n",
      "INFO:tensorflow:Saving checkpoints for 36501 into PNAD_1525049347/model.ckpt.\n",
      "INFO:tensorflow:global_step/sec: 23.9487\n",
      "INFO:tensorflow:loss = 22.076818, step = 36501 (4.217 sec)\n",
      "INFO:tensorflow:global_step/sec: 37.9622\n",
      "INFO:tensorflow:loss = 52.50197, step = 36601 (2.592 sec)\n",
      "INFO:tensorflow:global_step/sec: 31.6019\n",
      "INFO:tensorflow:loss = 24.335033, step = 36701 (3.165 sec)\n",
      "INFO:tensorflow:Saving checkpoints for 36751 into PNAD_1525049347/model.ckpt.\n",
      "INFO:tensorflow:global_step/sec: 30.8872\n",
      "INFO:tensorflow:loss = 55.804573, step = 36801 (3.237 sec)\n",
      "INFO:tensorflow:global_step/sec: 42.2952\n",
      "INFO:tensorflow:loss = 21.432507, step = 36901 (2.365 sec)\n",
      "INFO:tensorflow:Saving checkpoints for 37001 into PNAD_1525049347/model.ckpt.\n",
      "INFO:tensorflow:global_step/sec: 30.7745\n",
      "INFO:tensorflow:loss = 38.0149, step = 37001 (3.291 sec)\n",
      "INFO:tensorflow:global_step/sec: 41.143\n",
      "INFO:tensorflow:loss = 33.04505, step = 37101 (2.388 sec)\n",
      "INFO:tensorflow:global_step/sec: 42.3003\n",
      "INFO:tensorflow:loss = 18.070679, step = 37201 (2.364 sec)\n",
      "INFO:tensorflow:Saving checkpoints for 37251 into PNAD_1525049347/model.ckpt.\n",
      "INFO:tensorflow:global_step/sec: 30.7169\n",
      "INFO:tensorflow:loss = 28.412739, step = 37301 (3.255 sec)\n",
      "INFO:tensorflow:global_step/sec: 41.7283\n",
      "INFO:tensorflow:loss = 26.615906, step = 37401 (2.397 sec)\n",
      "INFO:tensorflow:Saving checkpoints for 37501 into PNAD_1525049347/model.ckpt.\n",
      "INFO:tensorflow:global_step/sec: 31.4729\n",
      "INFO:tensorflow:loss = 36.88116, step = 37501 (3.221 sec)\n",
      "INFO:tensorflow:global_step/sec: 41.2508\n",
      "INFO:tensorflow:loss = 16.418596, step = 37601 (2.381 sec)\n",
      "INFO:tensorflow:global_step/sec: 42.2189\n",
      "INFO:tensorflow:loss = 35.43235, step = 37701 (2.368 sec)\n",
      "INFO:tensorflow:Saving checkpoints for 37751 into PNAD_1525049347/model.ckpt.\n"
     ]
    },
    {
     "name": "stdout",
     "output_type": "stream",
     "text": [
      "INFO:tensorflow:global_step/sec: 31.2189\n",
      "INFO:tensorflow:loss = 23.948898, step = 37801 (3.204 sec)\n",
      "INFO:tensorflow:global_step/sec: 42.3217\n",
      "INFO:tensorflow:loss = 50.67508, step = 37901 (2.363 sec)\n",
      "INFO:tensorflow:Saving checkpoints for 38001 into PNAD_1525049347/model.ckpt.\n",
      "INFO:tensorflow:global_step/sec: 31.7948\n",
      "INFO:tensorflow:loss = 26.820898, step = 38001 (3.187 sec)\n",
      "INFO:tensorflow:global_step/sec: 41.7652\n",
      "INFO:tensorflow:loss = 48.47, step = 38101 (2.352 sec)\n",
      "INFO:tensorflow:global_step/sec: 42.7304\n",
      "INFO:tensorflow:loss = 18.345432, step = 38201 (2.341 sec)\n",
      "INFO:tensorflow:Saving checkpoints for 38251 into PNAD_1525049347/model.ckpt.\n",
      "INFO:tensorflow:global_step/sec: 31.2841\n",
      "INFO:tensorflow:loss = 39.40531, step = 38301 (3.196 sec)\n",
      "INFO:tensorflow:global_step/sec: 42.3547\n",
      "INFO:tensorflow:loss = 30.695942, step = 38401 (2.361 sec)\n",
      "INFO:tensorflow:Saving checkpoints for 38501 into PNAD_1525049347/model.ckpt.\n",
      "INFO:tensorflow:global_step/sec: 31.7603\n",
      "INFO:tensorflow:loss = 26.60077, step = 38501 (3.190 sec)\n",
      "INFO:tensorflow:global_step/sec: 41.7341\n",
      "INFO:tensorflow:loss = 19.818287, step = 38601 (2.355 sec)\n",
      "INFO:tensorflow:global_step/sec: 42.4616\n",
      "INFO:tensorflow:loss = 11.65919, step = 38701 (2.355 sec)\n",
      "INFO:tensorflow:Saving checkpoints for 38751 into PNAD_1525049347/model.ckpt.\n",
      "INFO:tensorflow:global_step/sec: 31.3769\n",
      "INFO:tensorflow:loss = 23.444439, step = 38801 (3.187 sec)\n",
      "INFO:tensorflow:global_step/sec: 42.6097\n",
      "INFO:tensorflow:loss = 14.854525, step = 38901 (2.348 sec)\n",
      "INFO:tensorflow:Saving checkpoints for 39001 into PNAD_1525049347/model.ckpt.\n",
      "INFO:tensorflow:global_step/sec: 31.7235\n",
      "INFO:tensorflow:loss = 28.064207, step = 39001 (3.195 sec)\n",
      "INFO:tensorflow:global_step/sec: 42.0279\n",
      "INFO:tensorflow:loss = 20.624142, step = 39101 (2.336 sec)\n",
      "INFO:tensorflow:global_step/sec: 41.961\n",
      "INFO:tensorflow:loss = 48.553078, step = 39201 (2.383 sec)\n",
      "INFO:tensorflow:Saving checkpoints for 39251 into PNAD_1525049347/model.ckpt.\n",
      "INFO:tensorflow:global_step/sec: 31.0993\n",
      "INFO:tensorflow:loss = 18.18541, step = 39301 (3.216 sec)\n",
      "INFO:tensorflow:global_step/sec: 42.2372\n",
      "INFO:tensorflow:loss = 47.787056, step = 39401 (2.367 sec)\n",
      "INFO:tensorflow:Saving checkpoints for 39501 into PNAD_1525049347/model.ckpt.\n",
      "INFO:tensorflow:global_step/sec: 31.5355\n",
      "INFO:tensorflow:loss = 15.830857, step = 39501 (3.215 sec)\n",
      "INFO:tensorflow:global_step/sec: 41.464\n",
      "INFO:tensorflow:loss = 59.803764, step = 39601 (2.368 sec)\n",
      "INFO:tensorflow:global_step/sec: 42.0875\n",
      "INFO:tensorflow:loss = 24.869968, step = 39701 (2.376 sec)\n",
      "INFO:tensorflow:Saving checkpoints for 39751 into PNAD_1525049347/model.ckpt.\n",
      "INFO:tensorflow:global_step/sec: 30.7602\n",
      "INFO:tensorflow:loss = 81.05411, step = 39801 (3.250 sec)\n",
      "INFO:tensorflow:global_step/sec: 40.6565\n",
      "INFO:tensorflow:loss = 24.523788, step = 39901 (2.460 sec)\n",
      "INFO:tensorflow:Saving checkpoints for 40001 into PNAD_1525049347/model.ckpt.\n",
      "INFO:tensorflow:global_step/sec: 30.5822\n",
      "INFO:tensorflow:loss = 14.097626, step = 40001 (3.313 sec)\n",
      "INFO:tensorflow:global_step/sec: 41.4028\n",
      "INFO:tensorflow:loss = 37.173615, step = 40101 (2.374 sec)\n",
      "INFO:tensorflow:global_step/sec: 42.1688\n",
      "INFO:tensorflow:loss = 27.849255, step = 40201 (2.371 sec)\n",
      "INFO:tensorflow:Saving checkpoints for 40251 into PNAD_1525049347/model.ckpt.\n",
      "INFO:tensorflow:global_step/sec: 31.1673\n",
      "INFO:tensorflow:loss = 38.758823, step = 40301 (3.206 sec)\n",
      "INFO:tensorflow:global_step/sec: 42.6454\n",
      "INFO:tensorflow:loss = 16.13532, step = 40401 (2.345 sec)\n",
      "INFO:tensorflow:Saving checkpoints for 40501 into PNAD_1525049347/model.ckpt.\n",
      "INFO:tensorflow:global_step/sec: 31.3377\n",
      "INFO:tensorflow:loss = 38.776814, step = 40501 (3.235 sec)\n",
      "INFO:tensorflow:global_step/sec: 41.6139\n",
      "INFO:tensorflow:loss = 23.831314, step = 40601 (2.359 sec)\n",
      "INFO:tensorflow:global_step/sec: 41.3097\n",
      "INFO:tensorflow:loss = 46.511833, step = 40701 (2.422 sec)\n",
      "INFO:tensorflow:Saving checkpoints for 40751 into PNAD_1525049347/model.ckpt.\n",
      "INFO:tensorflow:global_step/sec: 31.4487\n",
      "INFO:tensorflow:loss = 19.702673, step = 40801 (3.180 sec)\n",
      "INFO:tensorflow:global_step/sec: 42.1109\n",
      "INFO:tensorflow:loss = 49.11873, step = 40901 (2.375 sec)\n",
      "INFO:tensorflow:Saving checkpoints for 41001 into PNAD_1525049347/model.ckpt.\n",
      "INFO:tensorflow:global_step/sec: 31.368\n",
      "INFO:tensorflow:loss = 23.00108, step = 41001 (3.231 sec)\n",
      "INFO:tensorflow:global_step/sec: 41.6729\n",
      "INFO:tensorflow:loss = 74.875275, step = 41101 (2.357 sec)\n",
      "INFO:tensorflow:global_step/sec: 42.7059\n",
      "INFO:tensorflow:loss = 21.305391, step = 41201 (2.342 sec)\n",
      "INFO:tensorflow:Saving checkpoints for 41251 into PNAD_1525049347/model.ckpt.\n",
      "INFO:tensorflow:global_step/sec: 30.8646\n",
      "INFO:tensorflow:loss = 30.85083, step = 41301 (3.240 sec)\n",
      "INFO:tensorflow:global_step/sec: 42.0331\n",
      "INFO:tensorflow:loss = 38.811195, step = 41401 (2.379 sec)\n",
      "INFO:tensorflow:Saving checkpoints for 41501 into PNAD_1525049347/model.ckpt.\n",
      "INFO:tensorflow:global_step/sec: 31.295\n",
      "INFO:tensorflow:loss = 25.211843, step = 41501 (3.238 sec)\n",
      "INFO:tensorflow:global_step/sec: 41.6275\n",
      "INFO:tensorflow:loss = 34.45369, step = 41601 (2.360 sec)\n",
      "INFO:tensorflow:global_step/sec: 42.1513\n",
      "INFO:tensorflow:loss = 20.85588, step = 41701 (2.372 sec)\n",
      "INFO:tensorflow:Saving checkpoints for 41751 into PNAD_1525049347/model.ckpt.\n",
      "INFO:tensorflow:global_step/sec: 31.0014\n",
      "INFO:tensorflow:loss = 35.603203, step = 41801 (3.226 sec)\n",
      "INFO:tensorflow:global_step/sec: 42.6281\n",
      "INFO:tensorflow:loss = 21.215696, step = 41901 (2.346 sec)\n",
      "INFO:tensorflow:Saving checkpoints for 42001 into PNAD_1525049347/model.ckpt.\n",
      "INFO:tensorflow:global_step/sec: 31.6265\n",
      "INFO:tensorflow:loss = 37.70877, step = 42001 (3.205 sec)\n",
      "INFO:tensorflow:global_step/sec: 41.8452\n",
      "INFO:tensorflow:loss = 18.406635, step = 42101 (2.347 sec)\n",
      "INFO:tensorflow:global_step/sec: 42.1873\n",
      "INFO:tensorflow:loss = 40.936974, step = 42201 (2.370 sec)\n",
      "INFO:tensorflow:Saving checkpoints for 42251 into PNAD_1525049347/model.ckpt.\n",
      "INFO:tensorflow:global_step/sec: 31.1692\n",
      "INFO:tensorflow:loss = 23.53114, step = 42301 (3.208 sec)\n",
      "INFO:tensorflow:global_step/sec: 42.4451\n",
      "INFO:tensorflow:loss = 62.95385, step = 42401 (2.356 sec)\n",
      "INFO:tensorflow:Saving checkpoints for 42501 into PNAD_1525049347/model.ckpt.\n",
      "INFO:tensorflow:global_step/sec: 31.7083\n",
      "INFO:tensorflow:loss = 21.763115, step = 42501 (3.197 sec)\n",
      "INFO:tensorflow:global_step/sec: 41.2775\n",
      "INFO:tensorflow:loss = 45.300323, step = 42601 (2.380 sec)\n",
      "INFO:tensorflow:global_step/sec: 42.107\n",
      "INFO:tensorflow:loss = 29.705038, step = 42701 (2.375 sec)\n",
      "INFO:tensorflow:Saving checkpoints for 42751 into PNAD_1525049347/model.ckpt.\n",
      "INFO:tensorflow:global_step/sec: 31.2841\n",
      "INFO:tensorflow:loss = 14.5880785, step = 42801 (3.198 sec)\n",
      "INFO:tensorflow:global_step/sec: 42.3628\n",
      "INFO:tensorflow:loss = 24.500275, step = 42901 (2.360 sec)\n",
      "INFO:tensorflow:Saving checkpoints for 43001 into PNAD_1525049347/model.ckpt.\n",
      "INFO:tensorflow:global_step/sec: 31.5405\n",
      "INFO:tensorflow:loss = 28.976845, step = 43001 (3.211 sec)\n",
      "INFO:tensorflow:global_step/sec: 41.925\n",
      "INFO:tensorflow:loss = 42.010487, step = 43101 (2.344 sec)\n",
      "INFO:tensorflow:global_step/sec: 42.4807\n",
      "INFO:tensorflow:loss = 22.953518, step = 43201 (2.354 sec)\n",
      "INFO:tensorflow:Saving checkpoints for 43251 into PNAD_1525049347/model.ckpt.\n",
      "INFO:tensorflow:global_step/sec: 31.3981\n",
      "INFO:tensorflow:loss = 32.06121, step = 43301 (3.185 sec)\n",
      "INFO:tensorflow:global_step/sec: 42.4232\n",
      "INFO:tensorflow:loss = 23.451775, step = 43401 (2.357 sec)\n",
      "INFO:tensorflow:Saving checkpoints for 43501 into PNAD_1525049347/model.ckpt.\n",
      "INFO:tensorflow:global_step/sec: 31.4114\n",
      "INFO:tensorflow:loss = 43.607838, step = 43501 (3.228 sec)\n",
      "INFO:tensorflow:global_step/sec: 38.8195\n",
      "INFO:tensorflow:loss = 16.815104, step = 43601 (2.532 sec)\n",
      "INFO:tensorflow:global_step/sec: 42.0112\n",
      "INFO:tensorflow:loss = 41.528503, step = 43701 (2.380 sec)\n",
      "INFO:tensorflow:Saving checkpoints for 43751 into PNAD_1525049347/model.ckpt.\n",
      "INFO:tensorflow:global_step/sec: 31.1006\n",
      "INFO:tensorflow:loss = 24.038107, step = 43801 (3.215 sec)\n",
      "INFO:tensorflow:global_step/sec: 41.9852\n",
      "INFO:tensorflow:loss = 49.435295, step = 43901 (2.382 sec)\n",
      "INFO:tensorflow:Saving checkpoints for 44001 into PNAD_1525049347/model.ckpt.\n",
      "INFO:tensorflow:global_step/sec: 31.4043\n",
      "INFO:tensorflow:loss = 21.231792, step = 44001 (3.228 sec)\n"
     ]
    },
    {
     "name": "stdout",
     "output_type": "stream",
     "text": [
      "INFO:tensorflow:global_step/sec: 41.5018\n",
      "INFO:tensorflow:loss = 32.658596, step = 44101 (2.366 sec)\n",
      "INFO:tensorflow:global_step/sec: 42.2786\n",
      "INFO:tensorflow:loss = 35.017883, step = 44201 (2.366 sec)\n",
      "INFO:tensorflow:Saving checkpoints for 44251 into PNAD_1525049347/model.ckpt.\n",
      "INFO:tensorflow:global_step/sec: 29.912\n",
      "INFO:tensorflow:loss = 19.189888, step = 44301 (3.346 sec)\n",
      "INFO:tensorflow:global_step/sec: 40.3575\n",
      "INFO:tensorflow:loss = 29.131168, step = 44401 (2.474 sec)\n",
      "INFO:tensorflow:Saving checkpoints for 44501 into PNAD_1525049347/model.ckpt.\n",
      "INFO:tensorflow:global_step/sec: 31.5496\n",
      "INFO:tensorflow:loss = 22.753542, step = 44501 (3.213 sec)\n",
      "INFO:tensorflow:global_step/sec: 41.9562\n",
      "INFO:tensorflow:loss = 38.99241, step = 44601 (2.341 sec)\n",
      "INFO:tensorflow:global_step/sec: 42.479\n",
      "INFO:tensorflow:loss = 24.218246, step = 44701 (2.354 sec)\n",
      "INFO:tensorflow:Saving checkpoints for 44751 into PNAD_1525049347/model.ckpt.\n",
      "INFO:tensorflow:global_step/sec: 31.4118\n",
      "INFO:tensorflow:loss = 33.46411, step = 44801 (3.184 sec)\n",
      "INFO:tensorflow:global_step/sec: 42.1276\n",
      "INFO:tensorflow:loss = 23.537487, step = 44901 (2.374 sec)\n",
      "INFO:tensorflow:Saving checkpoints for 45001 into PNAD_1525049347/model.ckpt.\n",
      "INFO:tensorflow:global_step/sec: 29.204\n",
      "INFO:tensorflow:loss = 39.156277, step = 45001 (3.465 sec)\n",
      "INFO:tensorflow:global_step/sec: 40.087\n",
      "INFO:tensorflow:loss = 17.018467, step = 45101 (2.454 sec)\n",
      "INFO:tensorflow:global_step/sec: 42.2112\n",
      "INFO:tensorflow:loss = 44.319942, step = 45201 (2.369 sec)\n",
      "INFO:tensorflow:Saving checkpoints for 45251 into PNAD_1525049347/model.ckpt.\n",
      "INFO:tensorflow:global_step/sec: 31.1746\n",
      "INFO:tensorflow:loss = 27.926682, step = 45301 (3.208 sec)\n",
      "INFO:tensorflow:global_step/sec: 42.797\n",
      "INFO:tensorflow:loss = 64.36618, step = 45401 (2.336 sec)\n",
      "INFO:tensorflow:Saving checkpoints for 45501 into PNAD_1525049347/model.ckpt.\n",
      "INFO:tensorflow:global_step/sec: 31.8029\n",
      "INFO:tensorflow:loss = 29.976215, step = 45501 (3.186 sec)\n",
      "INFO:tensorflow:global_step/sec: 41.9256\n",
      "INFO:tensorflow:loss = 13.358071, step = 45601 (2.344 sec)\n",
      "INFO:tensorflow:global_step/sec: 42.3633\n",
      "INFO:tensorflow:loss = 31.431013, step = 45701 (2.361 sec)\n",
      "INFO:tensorflow:Saving checkpoints for 45751 into PNAD_1525049347/model.ckpt.\n",
      "INFO:tensorflow:global_step/sec: 31.2363\n",
      "INFO:tensorflow:loss = 17.794754, step = 45801 (3.201 sec)\n",
      "INFO:tensorflow:global_step/sec: 42.0431\n",
      "INFO:tensorflow:loss = 24.410965, step = 45901 (2.378 sec)\n",
      "INFO:tensorflow:Saving checkpoints for 46001 into PNAD_1525049347/model.ckpt.\n",
      "INFO:tensorflow:global_step/sec: 31.5284\n",
      "INFO:tensorflow:loss = 11.907362, step = 46001 (3.213 sec)\n",
      "INFO:tensorflow:global_step/sec: 41.5222\n",
      "INFO:tensorflow:loss = 34.595512, step = 46101 (2.367 sec)\n",
      "INFO:tensorflow:global_step/sec: 42.301\n",
      "INFO:tensorflow:loss = 31.330982, step = 46201 (2.364 sec)\n",
      "INFO:tensorflow:Saving checkpoints for 46251 into PNAD_1525049347/model.ckpt.\n",
      "INFO:tensorflow:global_step/sec: 31.3877\n",
      "INFO:tensorflow:loss = 42.699238, step = 46301 (3.187 sec)\n",
      "INFO:tensorflow:global_step/sec: 42.4642\n",
      "INFO:tensorflow:loss = 17.029919, step = 46401 (2.354 sec)\n",
      "INFO:tensorflow:Saving checkpoints for 46501 into PNAD_1525049347/model.ckpt.\n",
      "INFO:tensorflow:global_step/sec: 31.763\n",
      "INFO:tensorflow:loss = 56.724655, step = 46501 (3.192 sec)\n",
      "INFO:tensorflow:global_step/sec: 41.7511\n",
      "INFO:tensorflow:loss = 35.33117, step = 46601 (2.351 sec)\n",
      "INFO:tensorflow:global_step/sec: 42.3925\n",
      "INFO:tensorflow:loss = 81.96553, step = 46701 (2.359 sec)\n",
      "INFO:tensorflow:Saving checkpoints for 46751 into PNAD_1525049347/model.ckpt.\n",
      "INFO:tensorflow:global_step/sec: 31.4937\n",
      "INFO:tensorflow:loss = 31.20139, step = 46801 (3.176 sec)\n",
      "INFO:tensorflow:global_step/sec: 42.315\n",
      "INFO:tensorflow:loss = 20.471935, step = 46901 (2.365 sec)\n",
      "INFO:tensorflow:Saving checkpoints for 47001 into PNAD_1525049347/model.ckpt.\n",
      "INFO:tensorflow:global_step/sec: 31.736\n",
      "INFO:tensorflow:loss = 35.09939, step = 47001 (3.191 sec)\n",
      "INFO:tensorflow:global_step/sec: 41.9755\n",
      "INFO:tensorflow:loss = 20.09169, step = 47101 (2.340 sec)\n",
      "INFO:tensorflow:global_step/sec: 42.22\n",
      "INFO:tensorflow:loss = 33.66951, step = 47201 (2.369 sec)\n",
      "INFO:tensorflow:Saving checkpoints for 47251 into PNAD_1525049347/model.ckpt.\n",
      "INFO:tensorflow:global_step/sec: 30.9762\n",
      "INFO:tensorflow:loss = 20.781944, step = 47301 (3.228 sec)\n",
      "INFO:tensorflow:global_step/sec: 42.3543\n",
      "INFO:tensorflow:loss = 47.8433, step = 47401 (2.361 sec)\n",
      "INFO:tensorflow:Saving checkpoints for 47501 into PNAD_1525049347/model.ckpt.\n",
      "INFO:tensorflow:global_step/sec: 31.4214\n",
      "INFO:tensorflow:loss = 27.481913, step = 47501 (3.223 sec)\n",
      "INFO:tensorflow:global_step/sec: 41.694\n",
      "INFO:tensorflow:loss = 40.61203, step = 47601 (2.358 sec)\n",
      "INFO:tensorflow:global_step/sec: 42.4804\n",
      "INFO:tensorflow:loss = 19.784954, step = 47701 (2.354 sec)\n",
      "INFO:tensorflow:Saving checkpoints for 47751 into PNAD_1525049347/model.ckpt.\n",
      "INFO:tensorflow:global_step/sec: 31.1297\n",
      "INFO:tensorflow:loss = 52.18512, step = 47801 (3.212 sec)\n",
      "INFO:tensorflow:global_step/sec: 42.5049\n",
      "INFO:tensorflow:loss = 20.428013, step = 47901 (2.353 sec)\n",
      "INFO:tensorflow:Saving checkpoints for 48001 into PNAD_1525049347/model.ckpt.\n",
      "INFO:tensorflow:global_step/sec: 31.1542\n",
      "INFO:tensorflow:loss = 61.318077, step = 48001 (3.253 sec)\n",
      "INFO:tensorflow:global_step/sec: 41.5982\n",
      "INFO:tensorflow:loss = 22.486256, step = 48101 (2.360 sec)\n",
      "INFO:tensorflow:global_step/sec: 42.4578\n",
      "INFO:tensorflow:loss = 44.692986, step = 48201 (2.355 sec)\n",
      "INFO:tensorflow:Saving checkpoints for 48251 into PNAD_1525049347/model.ckpt.\n",
      "INFO:tensorflow:global_step/sec: 31.0128\n",
      "INFO:tensorflow:loss = 25.99426, step = 48301 (3.227 sec)\n",
      "INFO:tensorflow:global_step/sec: 42.2707\n",
      "INFO:tensorflow:loss = 26.29264, step = 48401 (2.364 sec)\n",
      "INFO:tensorflow:Saving checkpoints for 48501 into PNAD_1525049347/model.ckpt.\n",
      "INFO:tensorflow:global_step/sec: 31.1842\n",
      "INFO:tensorflow:loss = 27.072498, step = 48501 (3.249 sec)\n",
      "INFO:tensorflow:global_step/sec: 41.6383\n",
      "INFO:tensorflow:loss = 29.01513, step = 48601 (2.359 sec)\n",
      "INFO:tensorflow:global_step/sec: 40.3927\n",
      "INFO:tensorflow:loss = 46.280605, step = 48701 (2.475 sec)\n",
      "INFO:tensorflow:Saving checkpoints for 48751 into PNAD_1525049347/model.ckpt.\n",
      "INFO:tensorflow:global_step/sec: 30.021\n",
      "INFO:tensorflow:loss = 15.960411, step = 48801 (3.331 sec)\n",
      "INFO:tensorflow:global_step/sec: 42.3768\n",
      "INFO:tensorflow:loss = 32.106895, step = 48901 (2.360 sec)\n",
      "INFO:tensorflow:Saving checkpoints for 49001 into PNAD_1525049347/model.ckpt.\n",
      "INFO:tensorflow:global_step/sec: 31.5453\n",
      "INFO:tensorflow:loss = 27.181217, step = 49001 (3.215 sec)\n",
      "INFO:tensorflow:global_step/sec: 41.5777\n",
      "INFO:tensorflow:loss = 43.70427, step = 49101 (2.361 sec)\n",
      "INFO:tensorflow:global_step/sec: 42.3692\n",
      "INFO:tensorflow:loss = 24.595257, step = 49201 (2.360 sec)\n",
      "INFO:tensorflow:Saving checkpoints for 49251 into PNAD_1525049347/model.ckpt.\n",
      "INFO:tensorflow:global_step/sec: 31.2496\n",
      "INFO:tensorflow:loss = 40.259884, step = 49301 (3.200 sec)\n",
      "INFO:tensorflow:global_step/sec: 41.8837\n",
      "INFO:tensorflow:loss = 22.48846, step = 49401 (2.387 sec)\n",
      "INFO:tensorflow:Saving checkpoints for 49501 into PNAD_1525049347/model.ckpt.\n",
      "INFO:tensorflow:global_step/sec: 30.5807\n",
      "INFO:tensorflow:loss = 46.230255, step = 49501 (3.312 sec)\n",
      "INFO:tensorflow:global_step/sec: 41.237\n",
      "INFO:tensorflow:loss = 30.930077, step = 49601 (2.383 sec)\n",
      "INFO:tensorflow:global_step/sec: 42.1644\n",
      "INFO:tensorflow:loss = 29.6295, step = 49701 (2.371 sec)\n",
      "INFO:tensorflow:Saving checkpoints for 49751 into PNAD_1525049347/model.ckpt.\n",
      "INFO:tensorflow:global_step/sec: 31.2086\n",
      "INFO:tensorflow:loss = 34.08764, step = 49801 (3.204 sec)\n",
      "INFO:tensorflow:global_step/sec: 42.4666\n",
      "INFO:tensorflow:loss = 21.594845, step = 49901 (2.355 sec)\n",
      "INFO:tensorflow:Saving checkpoints for 50000 into PNAD_1525049347/model.ckpt.\n",
      "INFO:tensorflow:Loss for final step: 38.312904.\n"
     ]
    },
    {
     "data": {
      "text/plain": [
       "<tensorflow.python.estimator.canned.dnn_linear_combined.DNNLinearCombinedClassifier at 0x7effbfb52550>"
      ]
     },
     "execution_count": 93,
     "metadata": {},
     "output_type": "execute_result"
    }
   ],
   "source": [
    "init = tf.global_variables_initializer()\n",
    "estimator.train(input_fn=input_func,steps=50000)"
   ]
  },
  {
   "cell_type": "markdown",
   "metadata": {},
   "source": [
    "## Evaluate Model"
   ]
  },
  {
   "cell_type": "code",
   "execution_count": 94,
   "metadata": {
    "collapsed": true
   },
   "outputs": [],
   "source": [
    "eval_input_func = tf.estimator.inputs.pandas_input_fn(x=X_validation,y=y_validation,batch_size=100,num_epochs=1,shuffle=False)"
   ]
  },
  {
   "cell_type": "code",
   "execution_count": 95,
   "metadata": {},
   "outputs": [
    {
     "name": "stdout",
     "output_type": "stream",
     "text": [
      "WARNING:tensorflow:Casting <dtype: 'float32'> labels to bool.\n",
      "WARNING:tensorflow:Casting <dtype: 'float32'> labels to bool.\n",
      "INFO:tensorflow:Starting evaluation at 2018-04-30-01:14:31\n",
      "INFO:tensorflow:Restoring parameters from PNAD_1525049347/model.ckpt-50000\n",
      "INFO:tensorflow:Finished evaluation at 2018-04-30-01:14:34\n",
      "INFO:tensorflow:Saving dict for global step 50000: accuracy = 0.8550226, accuracy_baseline = 0.52011186, auc = 0.92892265, auc_precision_recall = 0.9179026, average_loss = 0.3397268, global_step = 50000, label/mean = 0.47988814, loss = 33.604042, prediction/mean = 0.48905998\n"
     ]
    }
   ],
   "source": [
    "results = estimator.evaluate(eval_input_func)"
   ]
  },
  {
   "cell_type": "code",
   "execution_count": 99,
   "metadata": {
    "collapsed": true
   },
   "outputs": [],
   "source": [
    "def prediction (X_prediction): \n",
    "  pred_fn = tf.estimator.inputs.pandas_input_fn(x=X_prediction,batch_size=len(X_prediction),shuffle=False)\n",
    "  predictions = list(estimator.predict(input_fn=pred_fn))\n",
    "  final_preds = []\n",
    "  for pred in predictions:\n",
    "      final_preds.append(pred['classes'][0].decode('utf8'))\n",
    "  \n",
    "  return final_preds\n"
   ]
  },
  {
   "cell_type": "code",
   "execution_count": 100,
   "metadata": {},
   "outputs": [
    {
     "name": "stdout",
     "output_type": "stream",
     "text": [
      "INFO:tensorflow:Restoring parameters from PNAD_1525049347/model.ckpt-50000\n"
     ]
    }
   ],
   "source": [
    "final_preds = prediction(X_validation)\n"
   ]
  },
  {
   "cell_type": "code",
   "execution_count": 101,
   "metadata": {
    "collapsed": true
   },
   "outputs": [],
   "source": [
    "def plot_confusion_matrix(final_preds,y):\n",
    "  from sklearn.metrics import confusion_matrix\n",
    "  import seaborn as sns\n",
    "  from sklearn.metrics import accuracy_score, precision_score, recall_score, f1_score\n",
    "\n",
    "  y_size = len(y)\n",
    "  confusion = confusion_matrix(y, final_preds)\n",
    "  confusion = np.around(confusion/y_size, decimals=3)\n",
    "\n",
    "  df_cm = pd.DataFrame(confusion*100, \n",
    "                     index = ['income<=6585','income>6585'], columns = ['income<=6585','income>6585'])\n",
    "\n",
    "  plt.figure(figsize=(8,7))\n",
    "  sns.heatmap(df_cm, annot=True,cmap='Reds', fmt='g')\n",
    "\n",
    "  plt.title('Wide & Deep Tensorflow model \\n\\nAccuracy:{0:.1f}\\n'.format(accuracy_score(y, final_preds)*100))\n",
    "  plt.ylabel('True label')\n",
    "  plt.xlabel('Predicted label')\n",
    "  plt.show()\n",
    "  return"
   ]
  },
  {
   "cell_type": "code",
   "execution_count": 102,
   "metadata": {},
   "outputs": [
    {
     "data": {
      "image/png": "[encoded data removed]",
      "text/plain": [
       "<matplotlib.figure.Figure at 0x7effbece7940>"
      ]
     },
     "metadata": {},
     "output_type": "display_data"
    }
   ],
   "source": [
    "plot_confusion_matrix(final_preds, y_validation)"
   ]
  },
  {
   "cell_type": "markdown",
   "metadata": {},
   "source": [
    "# Test model"
   ]
  },
  {
   "cell_type": "code",
   "execution_count": 103,
   "metadata": {},
   "outputs": [
    {
     "name": "stdout",
     "output_type": "stream",
     "text": [
      "INFO:tensorflow:Restoring parameters from PNAD_1525049347/model.ckpt-50000\n"
     ]
    }
   ],
   "source": [
    "test_preds = prediction(X_test)\n"
   ]
  },
  {
   "cell_type": "code",
   "execution_count": 104,
   "metadata": {},
   "outputs": [
    {
     "data": {
      "image/png": "[encoded data removed]",
      "text/plain": [
       "<matplotlib.figure.Figure at 0x7effbece78d0>"
      ]
     },
     "metadata": {},
     "output_type": "display_data"
    }
   ],
   "source": [
    "plot_confusion_matrix(test_preds, y_test)"
   ]
  },
  {
   "cell_type": "markdown",
   "metadata": {},
   "source": [
    "## Tensorboard analysis"
   ]
  },
  {
   "cell_type": "code",
   "execution_count": 111,
   "metadata": {},
   "outputs": [],
   "source": [
    "#from google.datalab.ml import TensorBoard as tb\n",
    "#tb.start(MODEL_DIR)"
   ]
  },
  {
   "cell_type": "code",
   "execution_count": 112,
   "metadata": {},
   "outputs": [],
   "source": [
    "#tb.stop\n"
   ]
  },
  {
   "cell_type": "markdown",
   "metadata": {},
   "source": [
    "# Check the 'not declared' income cases"
   ]
  },
  {
   "cell_type": "code",
   "execution_count": 107,
   "metadata": {},
   "outputs": [
    {
     "name": "stdout",
     "output_type": "stream",
     "text": [
      "INFO:tensorflow:Restoring parameters from PNAD_1525049347/model.ckpt-50000\n"
     ]
    }
   ],
   "source": [
    "df_preds = prediction(dataset_not_declared)"
   ]
  },
  {
   "cell_type": "code",
   "execution_count": 108,
   "metadata": {
    "collapsed": true
   },
   "outputs": [],
   "source": [
    "df_preds = pd.DataFrame(df_preds, columns=['Predictions'])"
   ]
  },
  {
   "cell_type": "code",
   "execution_count": null,
   "metadata": {
    "collapsed": true
   },
   "outputs": [],
   "source": []
  },
  {
   "cell_type": "code",
   "execution_count": 109,
   "metadata": {},
   "outputs": [
    {
     "data": {
      "text/plain": [
       "(5383, 1)"
      ]
     },
     "execution_count": 109,
     "metadata": {},
     "output_type": "execute_result"
    }
   ],
   "source": [
    "df_preds.shape"
   ]
  },
  {
   "cell_type": "code",
   "execution_count": 110,
   "metadata": {},
   "outputs": [
    {
     "data": {
      "image/png": "[encoded data removed]",
      "text/plain": [
       "<matplotlib.figure.Figure at 0x7effbe7c86a0>"
      ]
     },
     "metadata": {},
     "output_type": "display_data"
    }
   ],
   "source": [
    "plot_bar_chart(df_preds['Predictions'],\n",
    "               y_label='Percentage (%)',title='Class',color='SkyBlue',width = 0.30,x_axis_width=7)"
   ]
  },
  {
   "cell_type": "code",
   "execution_count": null,
   "metadata": {
    "collapsed": true
   },
   "outputs": [],
   "source": []
  }
 ],
 "metadata": {
  "kernelspec": {
   "display_name": "Python 3",
   "language": "python",
   "name": "python3"
  },
  "language_info": {
   "codemirror_mode": {
    "name": "ipython",
    "version": 3
   },
   "file_extension": ".py",
   "mimetype": "text/x-python",
   "name": "python",
   "nbconvert_exporter": "python",
   "pygments_lexer": "ipython3",
   "version": "3.6.3"
  }
 },
 "nbformat": 4,
 "nbformat_minor": 2
}
